{
 "cells": [
  {
   "cell_type": "code",
   "execution_count": 1,
   "id": "8f022430-dd8e-4ef8-8a87-d54da67b3367",
   "metadata": {},
   "outputs": [],
   "source": [
    "from intervals.number import Interval as I\n",
    "from intervals.methods import *\n",
    "from intervals.random import uniform_endpoints \n",
    "from intervals.mat_features import *\n",
    "from intervals.activation import sigmoid, tanh\n",
    "from intervals.plotting import plot_intervals, plot_lower_bound\n",
    "from intervals.methods import matmul\n",
    "from intervals.activation import sigmoid, tanh"
   ]
  },
  {
   "cell_type": "markdown",
   "id": "ab4f2293-04c1-4171-b1ef-fd07234907bd",
   "metadata": {},
   "source": [
    "# collect multiple intervals into a p-box"
   ]
  },
  {
   "cell_type": "code",
   "execution_count": null,
   "id": "340af6c8-505c-436f-bc9d-e068cda8fe3f",
   "metadata": {},
   "outputs": [],
   "source": [
    "# p-box initialisation via the mixture method\n",
    "n = 7\n",
    "\n",
    "weights = np.squeeze(np.random.dirichlet(np.ones(7),size=1))"
   ]
  },
  {
   "cell_type": "code",
   "execution_count": null,
   "id": "66c76340-db20-4c76-9516-f6b60cfbb254",
   "metadata": {},
   "outputs": [],
   "source": [
    "weights"
   ]
  },
  {
   "cell_type": "code",
   "execution_count": null,
   "id": "065128f7-d1c5-47be-9959-22e4351f478c",
   "metadata": {},
   "outputs": [],
   "source": [
    "sum(weights)"
   ]
  },
  {
   "cell_type": "code",
   "execution_count": null,
   "id": "f14e7aab-2922-4bc3-b1e0-9cc5c5b7f6e8",
   "metadata": {},
   "outputs": [],
   "source": [
    "data = np.random.uniform(low=0.0, high=1.0, size=(7,2))\n",
    "data"
   ]
  },
  {
   "cell_type": "code",
   "execution_count": null,
   "id": "0547b681-47d3-486c-92ec-1fc8bd9b9236",
   "metadata": {},
   "outputs": [],
   "source": [
    "data_sorted = np.sort(data, axis=1)\n",
    "data_sorted"
   ]
  },
  {
   "cell_type": "code",
   "execution_count": null,
   "id": "a28c275b-c490-4e64-994c-a7839faa0e0f",
   "metadata": {},
   "outputs": [],
   "source": [
    "data_i = intervalise(data)\n",
    "data_i"
   ]
  },
  {
   "cell_type": "code",
   "execution_count": null,
   "id": "c129db6c-3c49-47c9-bd9d-166c89b0fde4",
   "metadata": {},
   "outputs": [],
   "source": [
    "_ = plot_intervals(x=np.arange(len(data_i)), y_i = data_i)"
   ]
  },
  {
   "cell_type": "code",
   "execution_count": null,
   "id": "94dc3031-9229-4988-9098-d2a84cb4c0fd",
   "metadata": {},
   "outputs": [],
   "source": [
    "x = np.linspace(-0.5, 1.5, 1000)\n",
    "\n",
    "def indicator_func(x, data_interval):\n",
    "    \"\"\" take a loop over all the extreme points \n",
    "    \n",
    "    args:\n",
    "        x: array, support of the distribution\n",
    "        data_interval: interval array, \n",
    "    \"\"\"\n",
    "    \n",
    "    lb = []\n",
    "    ub = []\n",
    "    \n",
    "    l_vertice = [*data_interval.lo]\n",
    "    u_vertice = [*data_interval.hi]\n",
    "    # vertice_sets = [*data_i.lo] + [*data_i.hi]\n",
    "    \n",
    "    for i in x:\n",
    "        lb.append(sum([*data_interval.lo] <= i))\n",
    "        ub.append(sum([*data_interval.hi] <= i))\n",
    "    return lb, ub"
   ]
  },
  {
   "cell_type": "code",
   "execution_count": null,
   "id": "df363a3f-06e3-44f5-81d0-a45473f00d14",
   "metadata": {},
   "outputs": [],
   "source": [
    "lb, ub = indicator_func(x, data_i)"
   ]
  },
  {
   "cell_type": "code",
   "execution_count": null,
   "id": "4775e660-3f86-4a8d-94b7-9c32fd7ca357",
   "metadata": {},
   "outputs": [],
   "source": [
    "fig, ax = plt.subplots()\n",
    "ax.plot(x, lb, label='lower bound')\n",
    "ax.plot(x, ub, label='upper bound')\n",
    "ax.set_title('the p-box')\n",
    "ax.legend()"
   ]
  },
  {
   "cell_type": "code",
   "execution_count": null,
   "id": "1a07b6ab-c26d-4188-8055-5e1a5c503ee7",
   "metadata": {},
   "outputs": [],
   "source": []
  },
  {
   "cell_type": "code",
   "execution_count": null,
   "id": "81210e03-61ad-40bb-b023-f2a1533796bf",
   "metadata": {},
   "outputs": [],
   "source": []
  }
 ],
 "metadata": {
  "kernelspec": {
   "display_name": "Python 3 (ipykernel)",
   "language": "python",
   "name": "python3"
  },
  "language_info": {
   "codemirror_mode": {
    "name": "ipython",
    "version": 3
   },
   "file_extension": ".py",
   "mimetype": "text/x-python",
   "name": "python",
   "nbconvert_exporter": "python",
   "pygments_lexer": "ipython3",
   "version": "3.8.13"
  }
 },
 "nbformat": 4,
 "nbformat_minor": 5
}
