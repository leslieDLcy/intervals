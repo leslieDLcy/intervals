{
 "cells": [
  {
   "cell_type": "code",
   "execution_count": 2,
   "id": "b4f2fb48-438e-48f0-ac87-0bc975b6e75b",
   "metadata": {},
   "outputs": [],
   "source": [
    "from intervals.number import Interval as I"
   ]
  },
  {
   "cell_type": "code",
   "execution_count": null,
   "id": "ccc1a109-f983-4eed-b59c-ebc25855e46d",
   "metadata": {},
   "outputs": [],
   "source": []
  }
 ],
 "metadata": {
  "kernelspec": {
   "display_name": "Python 3 (ipykernel)",
   "language": "python",
   "name": "python3"
  },
  "language_info": {
   "codemirror_mode": {
    "name": "ipython",
    "version": 3
   },
   "file_extension": ".py",
   "mimetype": "text/x-python",
   "name": "python",
   "nbconvert_exporter": "python",
   "pygments_lexer": "ipython3",
   "version": "3.11.10"
  }
 },
 "nbformat": 4,
 "nbformat_minor": 5
}
