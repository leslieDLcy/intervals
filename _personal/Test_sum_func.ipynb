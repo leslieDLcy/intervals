{
 "cells": [
  {
   "cell_type": "code",
   "execution_count": null,
   "id": "b4f2fb48-438e-48f0-ac87-0bc975b6e75b",
   "metadata": {},
   "outputs": [],
   "source": [
    "from intervals.number import Interval as I"
   ]
  },
  {
   "cell_type": "code",
   "execution_count": 1,
   "id": "99f610ca-6d9f-4696-ab63-03eb280b837e",
   "metadata": {},
   "outputs": [
    {
     "ename": "SyntaxError",
     "evalue": "unterminated string literal (detected at line 813) (methods.py, line 813)",
     "output_type": "error",
     "traceback": [
      "Traceback \u001b[0;36m(most recent call last)\u001b[0m:\n",
      "\u001b[0m  File \u001b[1;32m~/.pyenv/versions/3.11.10/envs/pyun3.11/lib/python3.11/site-packages/IPython/core/interactiveshell.py:3577\u001b[0m in \u001b[1;35mrun_code\u001b[0m\n    exec(code_obj, self.user_global_ns, self.user_ns)\u001b[0m\n",
      "\u001b[0m  Cell \u001b[1;32mIn[1], line 1\u001b[0m\n    import intervals\u001b[0m\n",
      "\u001b[0;36m  File \u001b[0;32m~/Documents/Github_repos/intervals/src/intervals/__init__.py:2\u001b[0;36m\n\u001b[0;31m    from .methods import (lo,hi,mid,rad,width,\\\u001b[0;36m\n",
      "\u001b[0;36m  File \u001b[0;32m~/Documents/Github_repos/intervals/src/intervals/methods.py:813\u001b[0;36m\u001b[0m\n\u001b[0;31m    raise ValueError(f'Incompatible shapes({m}, {n}) x({x_shape[0]}, 1) -> (?, ?).\u001b[0m\n\u001b[0m                     ^\u001b[0m\n\u001b[0;31mSyntaxError\u001b[0m\u001b[0;31m:\u001b[0m unterminated string literal (detected at line 813)\n"
     ]
    }
   ],
   "source": [
    "import intervals"
   ]
  },
  {
   "cell_type": "code",
   "execution_count": null,
   "id": "ccc1a109-f983-4eed-b59c-ebc25855e46d",
   "metadata": {},
   "outputs": [],
   "source": []
  }
 ],
 "metadata": {
  "kernelspec": {
   "display_name": "Python 3 (ipykernel)",
   "language": "python",
   "name": "python3"
  },
  "language_info": {
   "codemirror_mode": {
    "name": "ipython",
    "version": 3
   },
   "file_extension": ".py",
   "mimetype": "text/x-python",
   "name": "python",
   "nbconvert_exporter": "python",
   "pygments_lexer": "ipython3",
   "version": "3.11.10"
  }
 },
 "nbformat": 4,
 "nbformat_minor": 5
}
