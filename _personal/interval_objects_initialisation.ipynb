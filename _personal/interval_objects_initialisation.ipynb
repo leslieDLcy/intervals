{
 "cells": [
  {
   "cell_type": "code",
   "execution_count": 1,
   "id": "2f691393-4806-4e64-8c6a-f05e6edf88dc",
   "metadata": {},
   "outputs": [],
   "source": [
    "from intervals.number import Interval as I\n",
    "from intervals.methods import (lo,hi,mid,rad,width,intervalise)\n",
    "from intervals.random import uniform_endpoints"
   ]
  },
  {
   "cell_type": "code",
   "execution_count": 2,
   "id": "46392979-d6f8-469d-96ab-3597b32c65d7",
   "metadata": {},
   "outputs": [],
   "source": [
    "import numpy as np"
   ]
  },
  {
   "cell_type": "code",
   "execution_count": 3,
   "id": "b800e6a1-73ad-48e6-9b71-0b427d448db5",
   "metadata": {},
   "outputs": [],
   "source": [
    "%load_ext autoreload\n",
    "%autoreload 2"
   ]
  },
  {
   "cell_type": "markdown",
   "id": "6980eb8f-d0f4-42a4-a5fa-1ccb1f5416c7",
   "metadata": {
    "jp-MarkdownHeadingCollapsed": true,
    "tags": []
   },
   "source": [
    "# scalar interval tests"
   ]
  },
  {
   "cell_type": "code",
   "execution_count": null,
   "id": "f6b628f4-f39d-4d74-84b7-74b7d7bf87fc",
   "metadata": {},
   "outputs": [],
   "source": [
    "x=I(1,2)\n",
    "print(x)"
   ]
  },
  {
   "cell_type": "code",
   "execution_count": null,
   "id": "d6ac113c-9f19-43b2-b830-bbf9f0f45a53",
   "metadata": {},
   "outputs": [],
   "source": [
    "y=I(-3,-2)\n",
    "print(y)"
   ]
  },
  {
   "cell_type": "code",
   "execution_count": null,
   "id": "c98a9989-3d86-4b9b-b2dd-21cb732eb73a",
   "metadata": {},
   "outputs": [],
   "source": [
    "x"
   ]
  },
  {
   "cell_type": "code",
   "execution_count": null,
   "id": "cbab70b8-9665-4893-8144-4a25b1e3c91e",
   "metadata": {},
   "outputs": [],
   "source": [
    "x+y"
   ]
  },
  {
   "cell_type": "code",
   "execution_count": null,
   "id": "84a93bee-7aa7-4a03-812e-09e3b60d3dbb",
   "metadata": {},
   "outputs": [],
   "source": [
    "x*y"
   ]
  },
  {
   "cell_type": "markdown",
   "id": "7c9c22db-c883-4750-87bf-054915897b22",
   "metadata": {
    "jp-MarkdownHeadingCollapsed": true,
    "tags": []
   },
   "source": [
    "# vector interval tests"
   ]
  },
  {
   "cell_type": "code",
   "execution_count": null,
   "id": "d6d202a1-e089-4625-ba29-5f9f18d67182",
   "metadata": {},
   "outputs": [],
   "source": [
    "x = I(lo=[1,2,3,4],hi=[2,3,4,5])\n",
    "print(x)"
   ]
  },
  {
   "cell_type": "code",
   "execution_count": null,
   "id": "185ada2e-adc2-4f0c-99c9-84afa1fea583",
   "metadata": {},
   "outputs": [],
   "source": [
    "y = I(lo=[-1,-2,-3,-4], hi=[-1,-1,-1,-1])\n",
    "print(y)"
   ]
  },
  {
   "cell_type": "code",
   "execution_count": null,
   "id": "76832dfd-190e-421b-b137-c84fe928635e",
   "metadata": {},
   "outputs": [],
   "source": [
    "x.shape"
   ]
  },
  {
   "cell_type": "code",
   "execution_count": null,
   "id": "9655b91c-fa6c-4d0c-9a7f-acc2fc8ff9b9",
   "metadata": {},
   "outputs": [],
   "source": [
    "# dir(x)"
   ]
  },
  {
   "cell_type": "code",
   "execution_count": null,
   "id": "722ee021-7a8e-42bf-b99e-20694036277a",
   "metadata": {},
   "outputs": [],
   "source": [
    "x * y"
   ]
  },
  {
   "cell_type": "markdown",
   "id": "05ee35d3-3415-443b-9751-19a7a49805cb",
   "metadata": {
    "tags": []
   },
   "source": [
    "# matrix interval initialisation tests"
   ]
  },
  {
   "cell_type": "markdown",
   "id": "7f96e186-39dd-4036-971a-91ca6400b10c",
   "metadata": {
    "tags": []
   },
   "source": [
    "#### Marco's initialisation"
   ]
  },
  {
   "cell_type": "code",
   "execution_count": null,
   "id": "70ecea53-9650-47c6-a156-454823bd3343",
   "metadata": {},
   "outputs": [],
   "source": [
    "# initialise a regular matrix of certain shape and transform it into an `interval matrix`\n",
    "\n",
    "a_matrix = np.array([[[1,2], [2,3], [4,5]],\n",
    "      [[-1,2],[-2,1],[3,5]],\n",
    "      [[0,2], [3,4], [6,8]]])"
   ]
  },
  {
   "cell_type": "code",
   "execution_count": null,
   "id": "232b9980-09d2-4593-a82f-75dba6c95d74",
   "metadata": {},
   "outputs": [],
   "source": [
    "a_matrix.shape"
   ]
  },
  {
   "cell_type": "code",
   "execution_count": null,
   "id": "cd04fbb9-ab36-495b-b57d-d2fa39e1d3c2",
   "metadata": {},
   "outputs": [],
   "source": [
    "a_matrix"
   ]
  },
  {
   "cell_type": "code",
   "execution_count": null,
   "id": "4538f82a-a302-46e1-bb86-da9fac4557a8",
   "metadata": {},
   "outputs": [],
   "source": [
    "# Transform with Marco's default `intervalise` func\n",
    "int_a_matrix = intervalise(a_matrix)"
   ]
  },
  {
   "cell_type": "code",
   "execution_count": null,
   "id": "a348ab53-ebad-4716-ae9d-d5989454ed5f",
   "metadata": {},
   "outputs": [],
   "source": [
    "print(f'data type is: {type(int_a_matrix)}')\n",
    "print(f'the value is:\\n{int_a_matrix}')"
   ]
  },
  {
   "cell_type": "code",
   "execution_count": null,
   "id": "7af1f872-0766-49db-93fe-4ce85569ac84",
   "metadata": {},
   "outputs": [],
   "source": [
    "# element-wise multiplication\n",
    "\n",
    "int_a_matrix * int_a_matrix"
   ]
  },
  {
   "cell_type": "code",
   "execution_count": null,
   "id": "1f6f4f5c-31c4-4d22-9254-e535991c0b83",
   "metadata": {},
   "outputs": [],
   "source": [
    "# test the \n",
    "\n",
    "a = np.array([[1, 2], [3, 4]])\n",
    "a.shape"
   ]
  },
  {
   "cell_type": "code",
   "execution_count": null,
   "id": "52c697e7-b0e0-4ad7-99cb-0fc5bfea60a6",
   "metadata": {},
   "outputs": [],
   "source": [
    "int_a = intervalise(a)"
   ]
  },
  {
   "cell_type": "code",
   "execution_count": null,
   "id": "9b224cce-e633-4e3e-9302-dde146ec3673",
   "metadata": {},
   "outputs": [],
   "source": [
    "int_a.shape"
   ]
  },
  {
   "cell_type": "code",
   "execution_count": null,
   "id": "a050fa75-1d6e-4196-8a25-ef2d4e6b5630",
   "metadata": {},
   "outputs": [],
   "source": [
    "# currently, for (4, 2) take the last dimension which shall be 2\n",
    "\n",
    "a_42 = np.array([[1,2],[2,3],[4,5],[5,6]])"
   ]
  },
  {
   "cell_type": "code",
   "execution_count": null,
   "id": "b2fa95c2-9e94-4701-91a5-17374700ff6e",
   "metadata": {},
   "outputs": [],
   "source": [
    "a_42.shape"
   ]
  },
  {
   "cell_type": "code",
   "execution_count": null,
   "id": "92d6204d-1378-45f0-b071-c6eb4e8de688",
   "metadata": {},
   "outputs": [],
   "source": [
    "a_42"
   ]
  },
  {
   "cell_type": "code",
   "execution_count": null,
   "id": "5d1c3ee2-0dec-4773-95ff-caef89d2d566",
   "metadata": {},
   "outputs": [],
   "source": [
    "int_a_42 = intervalise(a_42)"
   ]
  },
  {
   "cell_type": "code",
   "execution_count": null,
   "id": "2763802e-5cbd-424a-8ea9-e93a7607c72d",
   "metadata": {},
   "outputs": [],
   "source": [
    "int_a_42.shape"
   ]
  },
  {
   "cell_type": "code",
   "execution_count": null,
   "id": "c5cb8978-6f97-42f5-ac62-c6b7e2d9c180",
   "metadata": {},
   "outputs": [],
   "source": [
    "int_a_42"
   ]
  },
  {
   "cell_type": "code",
   "execution_count": null,
   "id": "b80aca89-8348-4fee-b8d8-08ff75e49101",
   "metadata": {},
   "outputs": [],
   "source": [
    "# somehow, it's weird that it also takes the first dimension"
   ]
  },
  {
   "cell_type": "code",
   "execution_count": null,
   "id": "cabc6404-60e9-436f-968d-3086e7bd35bf",
   "metadata": {},
   "outputs": [],
   "source": [
    "a_24 = np.array([[1,2,4,5],[2,3,5,6]])"
   ]
  },
  {
   "cell_type": "code",
   "execution_count": null,
   "id": "ff3f9852-4bdd-4f41-9dda-fc35cbfc2c2d",
   "metadata": {},
   "outputs": [],
   "source": [
    "a_24.shape"
   ]
  },
  {
   "cell_type": "code",
   "execution_count": null,
   "id": "fef3f9fd-6675-4065-b458-229aea28ffee",
   "metadata": {},
   "outputs": [],
   "source": [
    "a_24"
   ]
  },
  {
   "cell_type": "code",
   "execution_count": null,
   "id": "7b530b01-b585-463c-bf9e-3a824cf7cea6",
   "metadata": {},
   "outputs": [],
   "source": [
    "int_a_24 = intervalise(a_24)"
   ]
  },
  {
   "cell_type": "code",
   "execution_count": null,
   "id": "29290e3b-a256-4e94-80be-db71ba4b5da0",
   "metadata": {},
   "outputs": [],
   "source": [
    "int_a_24.shape"
   ]
  },
  {
   "cell_type": "code",
   "execution_count": null,
   "id": "9b16b7ee-a702-49b8-9776-602e7dac3b74",
   "metadata": {},
   "outputs": [],
   "source": [
    "int_a_24"
   ]
  },
  {
   "cell_type": "code",
   "execution_count": null,
   "id": "4f879d4e-37da-4e78-8579-ba00f21ca078",
   "metadata": {},
   "outputs": [],
   "source": [
    "# question, which dimension has the priority"
   ]
  },
  {
   "cell_type": "markdown",
   "id": "93c8db4b-11df-47e2-a65c-233c5914b0f1",
   "metadata": {},
   "source": [
    "#### Leslie's initialisation\n",
    "\n",
    "- I'll first test a way to initialise an interval matrix, which is (2, m, n)\n",
    "\n",
    "- let's create a matrix whose shpae is (2,3,3)"
   ]
  },
  {
   "cell_type": "code",
   "execution_count": 4,
   "id": "476b1e18-1a47-4b17-ad62-033202649f84",
   "metadata": {},
   "outputs": [],
   "source": [
    "from intervals.number import Interval as I\n",
    "from intervals.methods import (lo,hi,mid,rad,width,intervalise)\n",
    "from intervals.random import uniform_endpoints \n",
    "from intervals.mat_features import consume_interval, create_interval, dot, rowcol, rowcol2, intvl_matmul"
   ]
  },
  {
   "cell_type": "code",
   "execution_count": 5,
   "id": "f794fd90-aaaa-4f57-b8e6-027fbeab7953",
   "metadata": {},
   "outputs": [
    {
     "data": {
      "text/plain": [
       "array([[0, 1, 2],\n",
       "       [3, 4, 5],\n",
       "       [6, 7, 8]])"
      ]
     },
     "execution_count": 5,
     "metadata": {},
     "output_type": "execute_result"
    }
   ],
   "source": [
    "low = np.arange(9).reshape(3,3)\n",
    "low"
   ]
  },
  {
   "cell_type": "code",
   "execution_count": 6,
   "id": "f1592880-326a-4664-8eca-d2c565503b7a",
   "metadata": {},
   "outputs": [
    {
     "data": {
      "text/plain": [
       "array([[10, 11, 12],\n",
       "       [13, 14, 15],\n",
       "       [16, 17, 18]])"
      ]
     },
     "execution_count": 6,
     "metadata": {},
     "output_type": "execute_result"
    }
   ],
   "source": [
    "high = np.arange(10, 19).reshape(3,3)\n",
    "high"
   ]
  },
  {
   "cell_type": "code",
   "execution_count": 7,
   "id": "e7f2addd-33f0-4a92-a9c5-8d87515a0854",
   "metadata": {},
   "outputs": [],
   "source": [
    "intvl_matrix = consume_interval(low, high)"
   ]
  },
  {
   "cell_type": "code",
   "execution_count": 8,
   "id": "b15e3073-8bcc-4ae6-9578-8f0d63f597a0",
   "metadata": {},
   "outputs": [
    {
     "data": {
      "text/plain": [
       "[ 0. 10.] [ 1. 11.] [ 2. 12.]\n",
       "[ 3. 13.] [ 4. 14.] [ 5. 15.]\n",
       "[ 6. 16.] [ 7. 17.] [ 8. 18.]"
      ]
     },
     "execution_count": 8,
     "metadata": {},
     "output_type": "execute_result"
    }
   ],
   "source": [
    "intvl_matrix"
   ]
  },
  {
   "cell_type": "code",
   "execution_count": null,
   "id": "28a14109-ce40-4315-9738-5cd2635e66cf",
   "metadata": {},
   "outputs": [],
   "source": []
  }
 ],
 "metadata": {
  "kernelspec": {
   "display_name": "gpflow",
   "language": "python",
   "name": "gpflow"
  },
  "language_info": {
   "codemirror_mode": {
    "name": "ipython",
    "version": 3
   },
   "file_extension": ".py",
   "mimetype": "text/x-python",
   "name": "python",
   "nbconvert_exporter": "python",
   "pygments_lexer": "ipython3",
   "version": "3.10.13"
  }
 },
 "nbformat": 4,
 "nbformat_minor": 5
}
