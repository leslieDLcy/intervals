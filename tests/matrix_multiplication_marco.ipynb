{
 "cells": [
  {
   "cell_type": "markdown",
   "id": "bb67a0bf-f22e-4fde-9a2e-4c524333920c",
   "metadata": {
    "tags": []
   },
   "source": [
    "# interval matrix `calculation` test\n",
    "\n",
    "- test with simple 3 by 3 case\n",
    "- current workflow will work as long as there is no shape as 2"
   ]
  },
  {
   "cell_type": "code",
   "execution_count": 1,
   "id": "f6e8b17c-ae64-4d94-9ed7-0628ebcc22dd",
   "metadata": {},
   "outputs": [],
   "source": [
    "from intervals.number import Interval as I\n",
    "from intervals.methods import (lo,hi,mid,rad,width,intervalise, exp)\n",
    "from intervals.random import uniform_endpoints \n",
    "from intervals.mat_features import consume_interval, create_interval, dot, rowcol, rowcol2, intvl_matmul, consume_list"
   ]
  },
  {
   "cell_type": "code",
   "execution_count": 2,
   "id": "4f11a1ef-1a8e-4bd8-a9ae-a4e18cd94628",
   "metadata": {},
   "outputs": [],
   "source": [
    "from intervals.methods import *"
   ]
  },
  {
   "cell_type": "code",
   "execution_count": 3,
   "id": "7778e3c6-c484-49d6-ad56-7d8f4b1fc45a",
   "metadata": {},
   "outputs": [],
   "source": [
    "from intervals.activation import sigmoid, tanh"
   ]
  },
  {
   "cell_type": "code",
   "execution_count": 4,
   "id": "eb56342b-b2d3-4fd7-85e1-a45f64e12b44",
   "metadata": {},
   "outputs": [],
   "source": [
    "import numpy as np"
   ]
  },
  {
   "cell_type": "code",
   "execution_count": 5,
   "id": "95064f3d-8f26-403a-97f2-ffc944bd4e5f",
   "metadata": {},
   "outputs": [],
   "source": [
    "%load_ext autoreload\n",
    "%autoreload 2"
   ]
  },
  {
   "cell_type": "markdown",
   "id": "647b4ac5-080f-46e0-b60b-bd9fd6ca4b49",
   "metadata": {},
   "source": [
    "### prepare the data of various specifications"
   ]
  },
  {
   "cell_type": "code",
   "execution_count": 6,
   "id": "bf02e187-cbb6-4f9f-a9c7-c0be07bb0939",
   "metadata": {},
   "outputs": [
    {
     "data": {
      "text/plain": [
       "[2.7,3.3000000000000003]"
      ]
     },
     "execution_count": 6,
     "metadata": {},
     "output_type": "execute_result"
    }
   ],
   "source": [
    "# scalar\n",
    "\n",
    "x_scalar = 3\n",
    "x_si = create_interval(matrix=x_scalar)\n",
    "x_si"
   ]
  },
  {
   "cell_type": "code",
   "execution_count": 7,
   "id": "9bf9840d-3e19-479b-b7e4-2ad3252b006b",
   "metadata": {},
   "outputs": [],
   "source": [
    "# row_vec = create_interval(matrix=np.array([1, 3, 5]))\n",
    "# print(\"row vector\", row_vec.shape)\n",
    "# row_vec"
   ]
  },
  {
   "cell_type": "code",
   "execution_count": 8,
   "id": "353d6976-9c74-41aa-92ba-71cdfd0700ec",
   "metadata": {},
   "outputs": [
    {
     "name": "stdout",
     "output_type": "stream",
     "text": [
      "base vector with shape (3,)\n"
     ]
    },
    {
     "data": {
      "text/plain": [
       "[0.9,1.1]\n",
       "[2.7,3.3000000000000003]\n",
       "[4.5,5.5]"
      ]
     },
     "execution_count": 8,
     "metadata": {},
     "output_type": "execute_result"
    }
   ],
   "source": [
    "# no-shape one-dimensional base vector\n",
    "\n",
    "vec = create_interval(matrix=np.array([1, 3, 5]))\n",
    "print(\"base vector with shape\", vec.shape)\n",
    "vec"
   ]
  },
  {
   "cell_type": "code",
   "execution_count": 9,
   "id": "a92cd4bc-51c5-4ecf-962e-a9a73fbd6ee6",
   "metadata": {},
   "outputs": [
    {
     "name": "stdout",
     "output_type": "stream",
     "text": [
      "row vector with shape: (1, 3)\n"
     ]
    },
    {
     "data": {
      "text/plain": [
       "[0.9 1.1] [2.7 3.3] [4.5 5.5]"
      ]
     },
     "execution_count": 9,
     "metadata": {},
     "output_type": "execute_result"
    }
   ],
   "source": [
    "# row vector\n",
    "\n",
    "row_vec = create_interval(matrix=np.array([[1, 3, 5]]))\n",
    "print(\"row vector with shape:\", row_vec.shape)\n",
    "row_vec"
   ]
  },
  {
   "cell_type": "code",
   "execution_count": 10,
   "id": "22a442bd-185a-49c7-9332-d5e9460e3c89",
   "metadata": {},
   "outputs": [
    {
     "name": "stdout",
     "output_type": "stream",
     "text": [
      "col vector with shape: (3, 1)\n"
     ]
    },
    {
     "data": {
      "text/plain": [
       "[0.9 1.1]\n",
       "[2.7 3.3]\n",
       "[4.5 5.5]"
      ]
     },
     "execution_count": 10,
     "metadata": {},
     "output_type": "execute_result"
    }
   ],
   "source": [
    "# col vector\n",
    "\n",
    "col_vec = vec[:, np.newaxis]\n",
    "print(\"col vector with shape:\", col_vec.shape)\n",
    "col_vec"
   ]
  },
  {
   "cell_type": "code",
   "execution_count": 11,
   "id": "6a602ea9-5e2f-4ef7-8214-3cd5a3fa70a8",
   "metadata": {},
   "outputs": [
    {
     "name": "stdout",
     "output_type": "stream",
     "text": [
      "matrix interval with shape: (3, 3)\n"
     ]
    },
    {
     "data": {
      "text/plain": [
       "[0. 0.] [0.9 1.1] [1.8 2.2]\n",
       "[2.7 3.3] [3.6 4.4] [4.5 5.5]\n",
       "[5.4 6.6] [6.3 7.7] [7.2 8.8]"
      ]
     },
     "execution_count": 11,
     "metadata": {},
     "output_type": "execute_result"
    }
   ],
   "source": [
    "# matrix \n",
    "\n",
    "a = np.arange(9).reshape(3,3)\n",
    "mat_i = create_interval(matrix=a, half_width=0.1)\n",
    "print(\"matrix interval with shape:\", mat_i.shape)\n",
    "mat_i"
   ]
  },
  {
   "cell_type": "code",
   "execution_count": null,
   "id": "9baebab5-4062-4a4d-b30d-7f00428e192a",
   "metadata": {},
   "outputs": [],
   "source": []
  },
  {
   "cell_type": "markdown",
   "id": "bd29348b-91be-43b7-800b-741a918336b3",
   "metadata": {
    "tags": []
   },
   "source": [
    "#### mat @ mat"
   ]
  },
  {
   "cell_type": "code",
   "execution_count": 12,
   "id": "aa4e3c4d-7163-4ad3-8f17-2ab8f5b8039e",
   "metadata": {},
   "outputs": [
    {
     "data": {
      "text/plain": [
       "[12.15 18.15] [34.02 50.82] [55.89 83.49]\n",
       "[14.58 21.78] [43.74 65.34] [ 72.9 108.9]\n",
       "[17.01 25.41] [53.46 79.86] [ 89.91 134.31]"
      ]
     },
     "execution_count": 12,
     "metadata": {},
     "output_type": "execute_result"
    }
   ],
   "source": [
    "mat_mul_test = intvl_matmul(mat_i, mat_i)\n",
    "mat_mul_test"
   ]
  },
  {
   "cell_type": "code",
   "execution_count": 13,
   "id": "ec6c2d24-ec3f-460f-9937-fb0f375b22a7",
   "metadata": {},
   "outputs": [
    {
     "data": {
      "text/plain": [
       "[12.15 18.15] [14.58 21.78] [17.01 25.41]\n",
       "[34.02 50.82] [43.74 65.34] [53.46 79.86]\n",
       "[55.89 83.49] [ 72.9 108.9] [ 89.91 134.31]"
      ]
     },
     "execution_count": 13,
     "metadata": {},
     "output_type": "execute_result"
    }
   ],
   "source": [
    "''' double check with Marco's version '''\n",
    "\n",
    "matmul(mat_i, mat_i)"
   ]
  },
  {
   "cell_type": "code",
   "execution_count": 14,
   "id": "c8760ce1-ae39-46d7-a44f-9df0cadebd72",
   "metadata": {},
   "outputs": [
    {
     "data": {
      "text/plain": [
       "array([[ True, False, False],\n",
       "       [False,  True, False],\n",
       "       [False, False,  True]])"
      ]
     },
     "execution_count": 14,
     "metadata": {},
     "output_type": "execute_result"
    }
   ],
   "source": [
    "mat_mul_test == matmul(mat_i, mat_i)"
   ]
  },
  {
   "cell_type": "markdown",
   "id": "f5e18d79-62f4-462b-80ca-50b947a7fe84",
   "metadata": {
    "tags": []
   },
   "source": [
    "#### row @ mat"
   ]
  },
  {
   "cell_type": "code",
   "execution_count": 15,
   "id": "dadc30a0-8f0b-4cce-b3fa-f82cf86612cc",
   "metadata": {},
   "outputs": [],
   "source": [
    "# vec = create_interval(matrix=np.array([1, 3, 5]))\n",
    "# print(vec.shape)\n",
    "# vec"
   ]
  },
  {
   "cell_type": "code",
   "execution_count": 16,
   "id": "bb37117e-7156-4273-8f68-c373dfb289fe",
   "metadata": {},
   "outputs": [],
   "source": [
    "# vec.shape"
   ]
  },
  {
   "cell_type": "code",
   "execution_count": 17,
   "id": "dda27fcf-29cc-4454-926f-b2bd7bb70715",
   "metadata": {},
   "outputs": [],
   "source": [
    "# scalar\n",
    "# vec[0]"
   ]
  },
  {
   "cell_type": "code",
   "execution_count": 18,
   "id": "f9ed7783-218a-4757-ad14-e9dd7a04c850",
   "metadata": {},
   "outputs": [
    {
     "name": "stdout",
     "output_type": "stream",
     "text": [
      "x shall be a 2 dimensional array\n",
      "x shall be a 2 dimensional array\n",
      "x shall be a 2 dimensional array\n"
     ]
    },
    {
     "data": {
      "text/plain": [
       "[nan,nan]\n",
       "[nan,nan]\n",
       "[nan,nan]"
      ]
     },
     "execution_count": 18,
     "metadata": {},
     "output_type": "execute_result"
    }
   ],
   "source": [
    "intvl_matmul(vec, mat_i)"
   ]
  },
  {
   "cell_type": "code",
   "execution_count": 19,
   "id": "68ae81db-9b26-4bbb-bc03-ef0f524cf659",
   "metadata": {},
   "outputs": [
    {
     "name": "stdout",
     "output_type": "stream",
     "text": [
      "x shall be a 2 dimensional array\n"
     ]
    }
   ],
   "source": [
    "rowcol2(vec, mat_i)"
   ]
  },
  {
   "cell_type": "code",
   "execution_count": null,
   "id": "4eff5388-d7b3-4202-a34b-6dcc102a8ce9",
   "metadata": {},
   "outputs": [],
   "source": []
  },
  {
   "cell_type": "code",
   "execution_count": 20,
   "id": "f5995b3c-6f73-4f13-b299-160d83ddcf7b",
   "metadata": {},
   "outputs": [],
   "source": [
    "# In theory, (1 by 3) @ (3 by 3) = (1, 3)"
   ]
  },
  {
   "cell_type": "code",
   "execution_count": 21,
   "id": "9a2c2999-2a7d-4376-b0fd-70089a4f519c",
   "metadata": {},
   "outputs": [],
   "source": [
    "# what if we explicitly write down the row vector as (1 by 3)"
   ]
  },
  {
   "cell_type": "code",
   "execution_count": 22,
   "id": "f19a824e-afbf-44dc-9f4b-5ebe114a1419",
   "metadata": {},
   "outputs": [],
   "source": [
    "# tt = intvl_matmul(row_vec, mat_i)\n",
    "# print(tt.shape)\n",
    "# tt"
   ]
  },
  {
   "cell_type": "code",
   "execution_count": 23,
   "id": "bf7c771f-e297-46b5-8af8-71ba14ed430b",
   "metadata": {},
   "outputs": [],
   "source": [
    "# def reshape(interval):\n",
    "#     length = len(interval)\n",
    "#     new =  I(lo=np.squeeze(interval.lo), hi=np.squeeze(interval.hi))\n",
    "#     return new[np.newaxis, :]"
   ]
  },
  {
   "cell_type": "code",
   "execution_count": 24,
   "id": "5dfbe597-4ba6-4669-a6f1-8b4d3400c0a1",
   "metadata": {},
   "outputs": [],
   "source": [
    "# new_rowmat_test = reshape(tt)\n",
    "# print(new_rowmat_test.shape)\n",
    "# new"
   ]
  },
  {
   "cell_type": "code",
   "execution_count": 25,
   "id": "1c9c2e95-a4a3-4041-a828-524bfba0305b",
   "metadata": {},
   "outputs": [
    {
     "data": {
      "text/plain": [
       "[31.59 47.19] [38.88 58.08] [46.17 68.97]"
      ]
     },
     "execution_count": 25,
     "metadata": {},
     "output_type": "execute_result"
    }
   ],
   "source": [
    "''' double check with Marco's version '''\n",
    "\n",
    "rowcol_xT_WT(row_vec, mat_i)"
   ]
  },
  {
   "cell_type": "code",
   "execution_count": 26,
   "id": "93d79e7e-57be-454b-97f1-96c708454bd9",
   "metadata": {},
   "outputs": [
    {
     "data": {
      "text/plain": [
       "[31.59 47.19] [38.88 58.08] [46.17 68.97]"
      ]
     },
     "execution_count": 26,
     "metadata": {},
     "output_type": "execute_result"
    }
   ],
   "source": [
    "matmul(row_vec, mat_i)"
   ]
  },
  {
   "cell_type": "markdown",
   "id": "70d232da-a898-449b-aa13-b6696272d2c2",
   "metadata": {
    "tags": []
   },
   "source": [
    "#### mat @ col_vec"
   ]
  },
  {
   "cell_type": "code",
   "execution_count": 27,
   "id": "eb667504-afbb-4be1-886e-d757f0535d6c",
   "metadata": {},
   "outputs": [
    {
     "data": {
      "text/plain": [
       "[10.53,15.730000000000002]\n",
       "[32.4,48.400000000000006]\n",
       "[54.269999999999996,81.07000000000002]"
      ]
     },
     "execution_count": 27,
     "metadata": {},
     "output_type": "execute_result"
    }
   ],
   "source": [
    "intvl_matmul(mat_i, vec)"
   ]
  },
  {
   "cell_type": "code",
   "execution_count": 28,
   "id": "9876da08-d5b1-401a-9d58-89d6054d9f44",
   "metadata": {},
   "outputs": [
    {
     "data": {
      "text/plain": [
       "[10.53,15.730000000000002]\n",
       "[32.4,48.400000000000006]\n",
       "[54.269999999999996,81.07000000000002]"
      ]
     },
     "execution_count": 28,
     "metadata": {},
     "output_type": "execute_result"
    }
   ],
   "source": [
    "intvl_matmul(mat_i, col_vec)"
   ]
  },
  {
   "cell_type": "code",
   "execution_count": 29,
   "id": "77879741-133a-4ef2-94bd-d0d75650aea3",
   "metadata": {},
   "outputs": [
    {
     "data": {
      "text/plain": [
       "\" test with marco's old code, which has been updated I guess \""
      ]
     },
     "execution_count": 29,
     "metadata": {},
     "output_type": "execute_result"
    }
   ],
   "source": [
    "''' test with marco's old code, which has been updated I guess '''\n",
    "\n",
    "# # therefore, marco's rowvec works when the latter vec is just a vector\n",
    "\n",
    "# test_marco = rowcol2(mat_i, vec)\n",
    "# print(test_marco.shape)\n",
    "# test_marco\n",
    "\n",
    "# # what if we explicitly express a col vector\n",
    "\n",
    "# col_vec = col_vec[:, np.newaxis]\n",
    "# print(col_vec.shape)\n",
    "# col_vec\n",
    "\n",
    "# intvl_matmul(mat_i, col_vec)"
   ]
  },
  {
   "cell_type": "code",
   "execution_count": 30,
   "id": "c835a252-6aed-43fb-91a2-3fe62307ed12",
   "metadata": {},
   "outputs": [
    {
     "name": "stdout",
     "output_type": "stream",
     "text": [
      "[10.53 15.73]\n",
      "[32.4 48.4]\n",
      "[54.27 81.07]\n",
      "test the universal \"matmul\" function:\n",
      "[10.53 15.73]\n",
      "[32.4 48.4]\n",
      "[54.27 81.07]\n"
     ]
    }
   ],
   "source": [
    "''' test with marco's new code '''\n",
    "\n",
    "print(rowcol_W_x(mat_i, col_vec))\n",
    "\n",
    "print('test the universal \"matmul\" function:')\n",
    "print(matmul(mat_i, col_vec))"
   ]
  },
  {
   "cell_type": "markdown",
   "id": "ea3e169a-88cf-4645-b613-fc513f686bd1",
   "metadata": {
    "tags": []
   },
   "source": [
    "#### vector @ matrix"
   ]
  },
  {
   "cell_type": "code",
   "execution_count": 31,
   "id": "67ede585-d4b3-4979-b111-8c191117a226",
   "metadata": {},
   "outputs": [],
   "source": [
    "# create a row vector \n",
    "\n"
   ]
  },
  {
   "cell_type": "code",
   "execution_count": 32,
   "id": "f75a5aaf-9013-4951-bb84-88a09d50b270",
   "metadata": {},
   "outputs": [],
   "source": [
    "# sigmoid(row_vec)"
   ]
  },
  {
   "cell_type": "code",
   "execution_count": 33,
   "id": "0631a1bf-dd74-4b0e-88df-a102c073c9eb",
   "metadata": {},
   "outputs": [],
   "source": [
    "# sigmoid(mat_i)"
   ]
  },
  {
   "cell_type": "code",
   "execution_count": 34,
   "id": "9e8d317c-7655-40eb-9f38-407d6310b66f",
   "metadata": {},
   "outputs": [],
   "source": [
    "# ''' add one more dimension succeeded '''\n",
    "\n",
    "# added_dim = row_vec[np.newaxis,:]\n",
    "# print(added_dim.shape)\n",
    "# added_dim"
   ]
  },
  {
   "cell_type": "code",
   "execution_count": 35,
   "id": "9a58174a-49e1-48f6-af8c-2bc8efb98259",
   "metadata": {},
   "outputs": [
    {
     "data": {
      "text/plain": [
       "' lower dimension failed '"
      ]
     },
     "execution_count": 35,
     "metadata": {},
     "output_type": "execute_result"
    }
   ],
   "source": [
    "''' lower dimension failed '''\n",
    "\n",
    "# np.ravel(added_dim)"
   ]
  },
  {
   "cell_type": "code",
   "execution_count": 36,
   "id": "f8f0f97d-86b1-416c-866c-1c5c2cbeb445",
   "metadata": {},
   "outputs": [
    {
     "ename": "UnboundLocalError",
     "evalue": "cannot access local variable 'l' where it is not associated with a value",
     "output_type": "error",
     "traceback": [
      "\u001b[0;31m---------------------------------------------------------------------------\u001b[0m",
      "\u001b[0;31mUnboundLocalError\u001b[0m                         Traceback (most recent call last)",
      "Cell \u001b[0;32mIn[36], line 7\u001b[0m\n\u001b[1;32m      1\u001b[0m \u001b[38;5;66;03m# matrix which is mat_i\u001b[39;00m\n\u001b[1;32m      2\u001b[0m \u001b[38;5;124;03m'''\u001b[39;00m\n\u001b[1;32m      3\u001b[0m \u001b[38;5;124;03m(3, ) @ (3,3)\u001b[39;00m\n\u001b[1;32m      4\u001b[0m \n\u001b[1;32m      5\u001b[0m \u001b[38;5;124;03m'''\u001b[39;00m\n\u001b[0;32m----> 7\u001b[0m result \u001b[38;5;241m=\u001b[39m \u001b[43mrowcol2\u001b[49m\u001b[43m(\u001b[49m\u001b[43mx\u001b[49m\u001b[38;5;241;43m=\u001b[39;49m\u001b[43mrow_vec\u001b[49m\u001b[43m,\u001b[49m\u001b[43m \u001b[49m\u001b[43mW\u001b[49m\u001b[38;5;241;43m=\u001b[39;49m\u001b[43mmat_i\u001b[49m\u001b[43m)\u001b[49m\n\u001b[1;32m      8\u001b[0m result\n",
      "File \u001b[0;32m~/work_leslie/intervals/intervals/mat_features.py:56\u001b[0m, in \u001b[0;36mrowcol2\u001b[0;34m(x, W)\u001b[0m\n\u001b[1;32m     54\u001b[0m     y\u001b[38;5;241m=\u001b[39m[]\n\u001b[1;32m     55\u001b[0m     \u001b[38;5;28;01mfor\u001b[39;00m i \u001b[38;5;129;01min\u001b[39;00m \u001b[38;5;28mrange\u001b[39m(s[\u001b[38;5;241m0\u001b[39m]): \n\u001b[0;32m---> 56\u001b[0m         y\u001b[38;5;241m.\u001b[39mappend(\u001b[43mdot\u001b[49m\u001b[43m(\u001b[49m\u001b[43mx\u001b[49m\u001b[43m[\u001b[49m\u001b[43mi\u001b[49m\u001b[43m]\u001b[49m\u001b[43m,\u001b[49m\u001b[43mW\u001b[49m\u001b[43m)\u001b[49m)\n\u001b[1;32m     58\u001b[0m     \u001b[38;5;28;01mreturn\u001b[39;00m intervalise(y)\n\u001b[1;32m     59\u001b[0m \u001b[38;5;28;01melse\u001b[39;00m:\n",
      "File \u001b[0;32m~/work_leslie/intervals/intervals/mat_features.py:32\u001b[0m, in \u001b[0;36mdot\u001b[0;34m(x, y)\u001b[0m\n\u001b[0;32m---> 32\u001b[0m \u001b[38;5;28;01mdef\u001b[39;00m \u001b[38;5;21mdot\u001b[39m(x,y): \u001b[38;5;28;01mreturn\u001b[39;00m \u001b[38;5;28msum\u001b[39m(\u001b[43mx\u001b[49m\u001b[38;5;241;43m*\u001b[39;49m\u001b[43my\u001b[49m)\n",
      "File \u001b[0;32m~/work_leslie/intervals/intervals/number.py:166\u001b[0m, in \u001b[0;36mInterval.__mul__\u001b[0;34m(self, other)\u001b[0m\n\u001b[1;32m    164\u001b[0m     hi[other_negative]\u001b[38;5;241m=\u001b[39m\u001b[38;5;28mself\u001b[39m\u001b[38;5;241m.\u001b[39mlo[other_negative] \u001b[38;5;241m*\u001b[39m other[other_negative]\n\u001b[1;32m    165\u001b[0m \u001b[38;5;28;01melif\u001b[39;00m otherType \u001b[38;5;241m==\u001b[39m \u001b[38;5;124m'\u001b[39m\u001b[38;5;124mInterval\u001b[39m\u001b[38;5;124m'\u001b[39m:\n\u001b[0;32m--> 166\u001b[0m     lo,hi \u001b[38;5;241m=\u001b[39m \u001b[43mmultiply\u001b[49m\u001b[43m(\u001b[49m\u001b[38;5;28;43mself\u001b[39;49m\u001b[43m,\u001b[49m\u001b[43mother\u001b[49m\u001b[43m)\u001b[49m\n\u001b[1;32m    167\u001b[0m \u001b[38;5;28;01melse\u001b[39;00m: \u001b[38;5;28;01mreturn\u001b[39;00m \u001b[38;5;28mNotImplemented\u001b[39m\n\u001b[1;32m    168\u001b[0m \u001b[38;5;28;01mreturn\u001b[39;00m Interval(lo,hi)\n",
      "File \u001b[0;32m~/work_leslie/intervals/intervals/arithmetic.py:120\u001b[0m, in \u001b[0;36mmultiply\u001b[0;34m(s, o)\u001b[0m\n\u001b[1;32m    118\u001b[0m     l[nn] \u001b[38;5;241m=\u001b[39m s_hi[nn] \u001b[38;5;241m*\u001b[39m o_hi\n\u001b[1;32m    119\u001b[0m     h[nn] \u001b[38;5;241m=\u001b[39m s_lo[nn] \u001b[38;5;241m*\u001b[39m o_lo\n\u001b[0;32m--> 120\u001b[0m \u001b[38;5;28;01mreturn\u001b[39;00m \u001b[43ml\u001b[49m,h\n",
      "\u001b[0;31mUnboundLocalError\u001b[0m: cannot access local variable 'l' where it is not associated with a value"
     ]
    }
   ],
   "source": [
    "# matrix which is mat_i\n",
    "'''\n",
    "(3, ) @ (3,3)\n",
    "\n",
    "'''\n",
    "\n",
    "result = rowcol2(x=row_vec, W=mat_i)\n",
    "result"
   ]
  },
  {
   "cell_type": "code",
   "execution_count": null,
   "id": "5863a47b-c797-473b-8be0-1aa806af23b8",
   "metadata": {},
   "outputs": [],
   "source": [
    "result.shape"
   ]
  },
  {
   "cell_type": "code",
   "execution_count": null,
   "id": "e8c73ff7-1ade-47d1-b7be-7bcffc17569f",
   "metadata": {},
   "outputs": [],
   "source": [
    "result_ = intvl_matmul(x=row_vec, W=mat_i)\n",
    "type(result_)"
   ]
  },
  {
   "cell_type": "code",
   "execution_count": null,
   "id": "8d928b16-c5c8-4131-9e0d-deedd67484ba",
   "metadata": {},
   "outputs": [],
   "source": []
  },
  {
   "cell_type": "markdown",
   "id": "5668b7ad-298b-486a-a034-c98515a5c4b9",
   "metadata": {
    "tags": []
   },
   "source": [
    "#### scaler @ vector"
   ]
  },
  {
   "cell_type": "code",
   "execution_count": 37,
   "id": "f3643fdb-387d-40dc-a1c6-6e8ee738a3ac",
   "metadata": {},
   "outputs": [],
   "source": [
    "W1_intvl = row_vec"
   ]
  },
  {
   "cell_type": "code",
   "execution_count": 38,
   "id": "b8ddeda1-0d4c-4994-aef8-89c677a7f009",
   "metadata": {},
   "outputs": [
    {
     "data": {
      "text/plain": [
       "(1, 3)"
      ]
     },
     "execution_count": 38,
     "metadata": {},
     "output_type": "execute_result"
    }
   ],
   "source": [
    "W1_intvl.shape"
   ]
  },
  {
   "cell_type": "code",
   "execution_count": 39,
   "id": "ea3b0076-545a-4014-a01c-a7b00bdfad00",
   "metadata": {},
   "outputs": [
    {
     "data": {
      "text/plain": [
       "[2.43 3.63] [ 7.29 10.89] [12.15 18.15]"
      ]
     },
     "execution_count": 39,
     "metadata": {},
     "output_type": "execute_result"
    }
   ],
   "source": [
    "''' \n",
    "(3, ) @ (1, 3)\n",
    "'''\n",
    "\n",
    "h1 = x_si * W1_intvl\n",
    "h1"
   ]
  },
  {
   "cell_type": "code",
   "execution_count": 40,
   "id": "c5b06fc9-177b-4c6f-a03f-cf78b506e4a7",
   "metadata": {},
   "outputs": [
    {
     "data": {
      "text/plain": [
       "(1, 3)"
      ]
     },
     "execution_count": 40,
     "metadata": {},
     "output_type": "execute_result"
    }
   ],
   "source": [
    "h1.shape"
   ]
  },
  {
   "cell_type": "code",
   "execution_count": 41,
   "id": "2c8056b0-c95e-4048-b6b9-b1fc54dd7e83",
   "metadata": {},
   "outputs": [
    {
     "data": {
      "text/plain": [
       "'\\na further test where if (I) a scalar * interval vector matches with (II) scalar interval * interval vector\\n'"
      ]
     },
     "execution_count": 41,
     "metadata": {},
     "output_type": "execute_result"
    }
   ],
   "source": [
    "'''\n",
    "a further test where if (I) a scalar * interval vector matches with (II) scalar interval * interval vector\n",
    "'''"
   ]
  },
  {
   "cell_type": "code",
   "execution_count": 42,
   "id": "90868753-32eb-48d9-a2cc-eb5caad50a95",
   "metadata": {},
   "outputs": [],
   "source": [
    "x_c = np.array([3.2])"
   ]
  },
  {
   "cell_type": "code",
   "execution_count": 43,
   "id": "c049bfdf-eb62-4d37-958d-34e8642f639a",
   "metadata": {},
   "outputs": [
    {
     "data": {
      "text/plain": [
       "[3.2,3.2]"
      ]
     },
     "execution_count": 43,
     "metadata": {},
     "output_type": "execute_result"
    }
   ],
   "source": [
    "# scaler * interval vector\n",
    "x_ci = I(3.2, 3.2)\n",
    "x_ci"
   ]
  },
  {
   "cell_type": "code",
   "execution_count": 44,
   "id": "90d81cb1-8b19-4ee4-9429-460805f63f1d",
   "metadata": {},
   "outputs": [
    {
     "data": {
      "text/plain": [
       "array([[ True,  True,  True]])"
      ]
     },
     "execution_count": 44,
     "metadata": {},
     "output_type": "execute_result"
    }
   ],
   "source": [
    "3.2 * h1 == x_ci * h1 "
   ]
  },
  {
   "cell_type": "code",
   "execution_count": 45,
   "id": "9f8f1d70-c66e-4003-b58c-f253f5b24a08",
   "metadata": {},
   "outputs": [
    {
     "ename": "ValueError",
     "evalue": "not enough values to unpack (expected 2, got 0)",
     "output_type": "error",
     "traceback": [
      "\u001b[0;31m---------------------------------------------------------------------------\u001b[0m",
      "\u001b[0;31mValueError\u001b[0m                                Traceback (most recent call last)",
      "Cell \u001b[0;32mIn[45], line 1\u001b[0m\n\u001b[0;32m----> 1\u001b[0m \u001b[43mmatmul\u001b[49m\u001b[43m(\u001b[49m\u001b[43mx_ci\u001b[49m\u001b[43m,\u001b[49m\u001b[43m \u001b[49m\u001b[43mrow_vec\u001b[49m\u001b[43m)\u001b[49m\n",
      "File \u001b[0;32m~/work_leslie/intervals/intervals/methods.py:739\u001b[0m, in \u001b[0;36mmatmul\u001b[0;34m(A, B)\u001b[0m\n\u001b[1;32m    734\u001b[0m \u001b[38;5;28;01mdef\u001b[39;00m \u001b[38;5;21mmatmul\u001b[39m(A,B):\n\u001b[1;32m    735\u001b[0m \u001b[38;5;250m    \u001b[39m\u001b[38;5;124;03m'''\u001b[39;00m\n\u001b[1;32m    736\u001b[0m \u001b[38;5;124;03m    (m,n) x (n,p) -> (m,p) \u001b[39;00m\n\u001b[1;32m    737\u001b[0m \u001b[38;5;124;03m    (1,n) x (n,1) -> (1,1)\u001b[39;00m\n\u001b[1;32m    738\u001b[0m \u001b[38;5;124;03m    '''\u001b[39;00m\n\u001b[0;32m--> 739\u001b[0m     m,na \u001b[38;5;241m=\u001b[39m A\u001b[38;5;241m.\u001b[39mshape\n\u001b[1;32m    740\u001b[0m     nb,p \u001b[38;5;241m=\u001b[39m B\u001b[38;5;241m.\u001b[39mshape\n\u001b[1;32m    741\u001b[0m     \u001b[38;5;28;01mif\u001b[39;00m na\u001b[38;5;241m!=\u001b[39mnb: \u001b[38;5;28;01mraise\u001b[39;00m \u001b[38;5;167;01mValueError\u001b[39;00m(\u001b[38;5;124mf\u001b[39m\u001b[38;5;124m'\u001b[39m\u001b[38;5;124mIncompatible shapes (\u001b[39m\u001b[38;5;132;01m{\u001b[39;00mm\u001b[38;5;132;01m}\u001b[39;00m\u001b[38;5;124m,\u001b[39m\u001b[38;5;132;01m{\u001b[39;00mna\u001b[38;5;132;01m}\u001b[39;00m\u001b[38;5;124m) x (\u001b[39m\u001b[38;5;132;01m{\u001b[39;00mnb\u001b[38;5;132;01m}\u001b[39;00m\u001b[38;5;124m,\u001b[39m\u001b[38;5;132;01m{\u001b[39;00mp\u001b[38;5;132;01m}\u001b[39;00m\u001b[38;5;124m) -> (?,?). Inner sizes must be same, \u001b[39m\u001b[38;5;132;01m{\u001b[39;00mna\u001b[38;5;132;01m}\u001b[39;00m\u001b[38;5;124m is different from \u001b[39m\u001b[38;5;132;01m{\u001b[39;00mnb\u001b[38;5;132;01m}\u001b[39;00m\u001b[38;5;124m.\u001b[39m\u001b[38;5;124m'\u001b[39m)\n",
      "\u001b[0;31mValueError\u001b[0m: not enough values to unpack (expected 2, got 0)"
     ]
    }
   ],
   "source": [
    "matmul(x_ci, row_vec)"
   ]
  },
  {
   "cell_type": "code",
   "execution_count": 46,
   "id": "bb1a50bc-00b0-4a98-bbb9-c5bdb4de1f0a",
   "metadata": {},
   "outputs": [
    {
     "ename": "ValueError",
     "evalue": "not enough values to unpack (expected 2, got 0)",
     "output_type": "error",
     "traceback": [
      "\u001b[0;31m---------------------------------------------------------------------------\u001b[0m",
      "\u001b[0;31mValueError\u001b[0m                                Traceback (most recent call last)",
      "Cell \u001b[0;32mIn[46], line 1\u001b[0m\n\u001b[0;32m----> 1\u001b[0m \u001b[43mmatmul\u001b[49m\u001b[43m(\u001b[49m\u001b[43mx_ci\u001b[49m\u001b[43m,\u001b[49m\u001b[43m \u001b[49m\u001b[43mcol_vec\u001b[49m\u001b[43m)\u001b[49m\n",
      "File \u001b[0;32m~/work_leslie/intervals/intervals/methods.py:739\u001b[0m, in \u001b[0;36mmatmul\u001b[0;34m(A, B)\u001b[0m\n\u001b[1;32m    734\u001b[0m \u001b[38;5;28;01mdef\u001b[39;00m \u001b[38;5;21mmatmul\u001b[39m(A,B):\n\u001b[1;32m    735\u001b[0m \u001b[38;5;250m    \u001b[39m\u001b[38;5;124;03m'''\u001b[39;00m\n\u001b[1;32m    736\u001b[0m \u001b[38;5;124;03m    (m,n) x (n,p) -> (m,p) \u001b[39;00m\n\u001b[1;32m    737\u001b[0m \u001b[38;5;124;03m    (1,n) x (n,1) -> (1,1)\u001b[39;00m\n\u001b[1;32m    738\u001b[0m \u001b[38;5;124;03m    '''\u001b[39;00m\n\u001b[0;32m--> 739\u001b[0m     m,na \u001b[38;5;241m=\u001b[39m A\u001b[38;5;241m.\u001b[39mshape\n\u001b[1;32m    740\u001b[0m     nb,p \u001b[38;5;241m=\u001b[39m B\u001b[38;5;241m.\u001b[39mshape\n\u001b[1;32m    741\u001b[0m     \u001b[38;5;28;01mif\u001b[39;00m na\u001b[38;5;241m!=\u001b[39mnb: \u001b[38;5;28;01mraise\u001b[39;00m \u001b[38;5;167;01mValueError\u001b[39;00m(\u001b[38;5;124mf\u001b[39m\u001b[38;5;124m'\u001b[39m\u001b[38;5;124mIncompatible shapes (\u001b[39m\u001b[38;5;132;01m{\u001b[39;00mm\u001b[38;5;132;01m}\u001b[39;00m\u001b[38;5;124m,\u001b[39m\u001b[38;5;132;01m{\u001b[39;00mna\u001b[38;5;132;01m}\u001b[39;00m\u001b[38;5;124m) x (\u001b[39m\u001b[38;5;132;01m{\u001b[39;00mnb\u001b[38;5;132;01m}\u001b[39;00m\u001b[38;5;124m,\u001b[39m\u001b[38;5;132;01m{\u001b[39;00mp\u001b[38;5;132;01m}\u001b[39;00m\u001b[38;5;124m) -> (?,?). Inner sizes must be same, \u001b[39m\u001b[38;5;132;01m{\u001b[39;00mna\u001b[38;5;132;01m}\u001b[39;00m\u001b[38;5;124m is different from \u001b[39m\u001b[38;5;132;01m{\u001b[39;00mnb\u001b[38;5;132;01m}\u001b[39;00m\u001b[38;5;124m.\u001b[39m\u001b[38;5;124m'\u001b[39m)\n",
      "\u001b[0;31mValueError\u001b[0m: not enough values to unpack (expected 2, got 0)"
     ]
    }
   ],
   "source": [
    "matmul(x_ci, col_vec)"
   ]
  },
  {
   "cell_type": "code",
   "execution_count": 47,
   "id": "3f353f36-a4e4-4203-a1d7-637be2c46064",
   "metadata": {},
   "outputs": [
    {
     "ename": "IndexError",
     "evalue": "tuple index out of range",
     "output_type": "error",
     "traceback": [
      "\u001b[0;31m---------------------------------------------------------------------------\u001b[0m",
      "\u001b[0;31mIndexError\u001b[0m                                Traceback (most recent call last)",
      "Cell \u001b[0;32mIn[47], line 1\u001b[0m\n\u001b[0;32m----> 1\u001b[0m \u001b[43mrowcol_xT_WT\u001b[49m\u001b[43m(\u001b[49m\u001b[43mx_ci\u001b[49m\u001b[43m,\u001b[49m\u001b[43m \u001b[49m\u001b[43mmat_i\u001b[49m\u001b[43m)\u001b[49m\n",
      "File \u001b[0;32m~/work_leslie/intervals/intervals/methods.py:717\u001b[0m, in \u001b[0;36mrowcol_xT_WT\u001b[0;34m(x, W)\u001b[0m\n\u001b[1;32m    715\u001b[0m n,m \u001b[38;5;241m=\u001b[39m W\u001b[38;5;241m.\u001b[39mshape\n\u001b[1;32m    716\u001b[0m x_shape \u001b[38;5;241m=\u001b[39m x\u001b[38;5;241m.\u001b[39mshape\n\u001b[0;32m--> 717\u001b[0m \u001b[38;5;28;01mif\u001b[39;00m \u001b[38;5;129;01mnot\u001b[39;00m((n\u001b[38;5;241m==\u001b[39m\u001b[43mx_shape\u001b[49m\u001b[43m[\u001b[49m\u001b[38;5;241;43m0\u001b[39;49m\u001b[43m]\u001b[49m) \u001b[38;5;241m|\u001b[39m (n\u001b[38;5;241m==\u001b[39mx_shape[\u001b[38;5;241m1\u001b[39m])): \n\u001b[1;32m    718\u001b[0m     \u001b[38;5;28;01mraise\u001b[39;00m \u001b[38;5;167;01mValueError\u001b[39;00m(\u001b[38;5;124mf\u001b[39m\u001b[38;5;124m'\u001b[39m\u001b[38;5;124mIncompatible shapes (1,\u001b[39m\u001b[38;5;132;01m{\u001b[39;00mx_shape[\u001b[38;5;241m1\u001b[39m]\u001b[38;5;132;01m}\u001b[39;00m\u001b[38;5;124m) x (\u001b[39m\u001b[38;5;132;01m{\u001b[39;00mn\u001b[38;5;132;01m}\u001b[39;00m\u001b[38;5;124m,\u001b[39m\u001b[38;5;132;01m{\u001b[39;00mm\u001b[38;5;132;01m}\u001b[39;00m\u001b[38;5;124m) -> (?,?). Inner sizes must be same, \u001b[39m\u001b[38;5;132;01m{\u001b[39;00mx_shape[\u001b[38;5;241m1\u001b[39m]\u001b[38;5;132;01m}\u001b[39;00m\u001b[38;5;124m is different from \u001b[39m\u001b[38;5;132;01m{\u001b[39;00mn\u001b[38;5;132;01m}\u001b[39;00m\u001b[38;5;124m.\u001b[39m\u001b[38;5;124m'\u001b[39m)\n\u001b[1;32m    719\u001b[0m \u001b[38;5;28;01mif\u001b[39;00m x_shape[\u001b[38;5;241m0\u001b[39m]\u001b[38;5;241m==\u001b[39m\u001b[38;5;241m1\u001b[39m: \u001b[38;5;66;03m# this is the correct shape\u001b[39;00m\n",
      "\u001b[0;31mIndexError\u001b[0m: tuple index out of range"
     ]
    }
   ],
   "source": [
    "rowcol_xT_WT(x_ci, mat_i)"
   ]
  },
  {
   "cell_type": "code",
   "execution_count": 48,
   "id": "b4f2d2a6-bdba-4871-8a02-5da9ea8200f2",
   "metadata": {},
   "outputs": [
    {
     "ename": "ValueError",
     "evalue": "not enough values to unpack (expected 2, got 0)",
     "output_type": "error",
     "traceback": [
      "\u001b[0;31m---------------------------------------------------------------------------\u001b[0m",
      "\u001b[0;31mValueError\u001b[0m                                Traceback (most recent call last)",
      "Cell \u001b[0;32mIn[48], line 1\u001b[0m\n\u001b[0;32m----> 1\u001b[0m \u001b[43mrowcol_W_x\u001b[49m\u001b[43m(\u001b[49m\u001b[43mx_ci\u001b[49m\u001b[43m,\u001b[49m\u001b[43m \u001b[49m\u001b[43mmat_i\u001b[49m\u001b[43m)\u001b[49m\n",
      "File \u001b[0;32m~/work_leslie/intervals/intervals/methods.py:687\u001b[0m, in \u001b[0;36mrowcol_W_x\u001b[0;34m(W, x)\u001b[0m\n\u001b[1;32m    676\u001b[0m \u001b[38;5;28;01mdef\u001b[39;00m \u001b[38;5;21mrowcol_W_x\u001b[39m(W,x): \n\u001b[1;32m    677\u001b[0m \u001b[38;5;250m    \u001b[39m\u001b[38;5;124;03m'''\u001b[39;00m\n\u001b[1;32m    678\u001b[0m \u001b[38;5;124;03m    Row by column multiplication between a matrix W and a column vector x.\u001b[39;00m\n\u001b[1;32m    679\u001b[0m \n\u001b[0;32m   (...)\u001b[0m\n\u001b[1;32m    685\u001b[0m \u001b[38;5;124;03m    (1,n) x (1,n) -> (1,1) \u001b[39;00m\n\u001b[1;32m    686\u001b[0m \u001b[38;5;124;03m    '''\u001b[39;00m\n\u001b[0;32m--> 687\u001b[0m     m,n \u001b[38;5;241m=\u001b[39m W\u001b[38;5;241m.\u001b[39mshape\n\u001b[1;32m    688\u001b[0m     x_shape \u001b[38;5;241m=\u001b[39m x\u001b[38;5;241m.\u001b[39mshape\n\u001b[1;32m    689\u001b[0m     \u001b[38;5;28;01mif\u001b[39;00m \u001b[38;5;129;01mnot\u001b[39;00m((n\u001b[38;5;241m==\u001b[39mx_shape[\u001b[38;5;241m0\u001b[39m]) \u001b[38;5;241m|\u001b[39m (n\u001b[38;5;241m==\u001b[39mx_shape[\u001b[38;5;241m1\u001b[39m])): \n",
      "\u001b[0;31mValueError\u001b[0m: not enough values to unpack (expected 2, got 0)"
     ]
    }
   ],
   "source": [
    "rowcol_W_x(x_ci, mat_i)"
   ]
  },
  {
   "cell_type": "code",
   "execution_count": 49,
   "id": "a3478b26-17b1-4bc0-959d-15ad49cf16c3",
   "metadata": {},
   "outputs": [
    {
     "data": {
      "text/plain": [
       "[0. 0.] [2.88 3.52] [5.76 7.04]\n",
       "[ 8.64 10.56] [11.52 14.08] [14.4 17.6]\n",
       "[17.28 21.12] [20.16 24.64] [23.04 28.16]"
      ]
     },
     "execution_count": 49,
     "metadata": {},
     "output_type": "execute_result"
    }
   ],
   "source": [
    "x_ci * mat_i"
   ]
  },
  {
   "cell_type": "code",
   "execution_count": null,
   "id": "b5e47923-1120-40a4-b67b-1c30636fb0a2",
   "metadata": {},
   "outputs": [],
   "source": []
  },
  {
   "cell_type": "markdown",
   "id": "3f04e74c-3d22-4588-90bd-0895933a5b9d",
   "metadata": {
    "tags": []
   },
   "source": [
    "#### vector @ vector\n",
    "\n",
    "> to mimic the second layer propagation, from h1 to output\n",
    "\n",
    "> (1 by 3) * (3 by 1)\n",
    "\n",
    "> y = hidden_tensor * W2_int"
   ]
  },
  {
   "cell_type": "code",
   "execution_count": null,
   "id": "55848810-9cfc-4328-b2d2-497f3c24de94",
   "metadata": {},
   "outputs": [],
   "source": [
    "# consider a column vector\n",
    "\n",
    "W2_intvl = col_vec"
   ]
  },
  {
   "cell_type": "code",
   "execution_count": null,
   "id": "5f9e63cf-80b8-434d-bcb2-f1aac363a127",
   "metadata": {},
   "outputs": [],
   "source": [
    "W2_intvl"
   ]
  },
  {
   "cell_type": "code",
   "execution_count": null,
   "id": "136c2bd5-81ad-41dc-aa56-aaeef7270828",
   "metadata": {},
   "outputs": [],
   "source": [
    "y_hat = intvl_matmul(x=x_ci, W=W2_intvl)\n",
    "y_hat"
   ]
  },
  {
   "cell_type": "code",
   "execution_count": null,
   "id": "f0ee30f5-1951-4bb1-a1c6-59adcb9b4219",
   "metadata": {},
   "outputs": [],
   "source": [
    "y_hat2 = intvl_matmul(x=h1, W=mat_i)\n",
    "y_hat2"
   ]
  },
  {
   "cell_type": "code",
   "execution_count": null,
   "id": "73da3cd2-4bfb-436b-92e8-7b9ba9daaa83",
   "metadata": {},
   "outputs": [],
   "source": []
  },
  {
   "cell_type": "code",
   "execution_count": null,
   "id": "6a9193cb-dedf-497f-80cb-fef3446b04d1",
   "metadata": {},
   "outputs": [],
   "source": [
    "# scalar * vector\n",
    "\n",
    "matmul(x_ci, h1)"
   ]
  },
  {
   "cell_type": "code",
   "execution_count": null,
   "id": "abaeead0-1f56-4093-b307-ff336272769c",
   "metadata": {},
   "outputs": [],
   "source": [
    "matmaul(5, h1)"
   ]
  },
  {
   "cell_type": "markdown",
   "id": "66e3bc0f-eb3c-452a-b7ac-2dba3a898270",
   "metadata": {},
   "source": [
    "# activation function"
   ]
  },
  {
   "cell_type": "code",
   "execution_count": null,
   "id": "5c7d91b8-31e2-46f3-b4b6-02223ded3d7a",
   "metadata": {},
   "outputs": [],
   "source": [
    "# sigmoid(x_intvl)"
   ]
  },
  {
   "cell_type": "code",
   "execution_count": null,
   "id": "57d9c55c-18a7-4ecb-b517-9c1b14417d53",
   "metadata": {},
   "outputs": [],
   "source": []
  },
  {
   "cell_type": "code",
   "execution_count": null,
   "id": "6c449f9b-2608-4046-b134-6c023f226ea4",
   "metadata": {},
   "outputs": [],
   "source": [
    "np.dot(3, [1,2,3])"
   ]
  },
  {
   "cell_type": "code",
   "execution_count": null,
   "id": "1ad11d51-9e86-4ca0-a34b-2ceac68e007f",
   "metadata": {},
   "outputs": [],
   "source": [
    "np.dot([3,2,1], [1,2,3])"
   ]
  },
  {
   "cell_type": "code",
   "execution_count": null,
   "id": "e6644df3-75c6-45b7-9ae3-21c29d755b7f",
   "metadata": {},
   "outputs": [],
   "source": []
  }
 ],
 "metadata": {
  "kernelspec": {
   "display_name": "transformer",
   "language": "python",
   "name": "transformer"
  },
  "language_info": {
   "codemirror_mode": {
    "name": "ipython",
    "version": 3
   },
   "file_extension": ".py",
   "mimetype": "text/x-python",
   "name": "python",
   "nbconvert_exporter": "python",
   "pygments_lexer": "ipython3",
   "version": "3.11.4"
  },
  "toc-autonumbering": true
 },
 "nbformat": 4,
 "nbformat_minor": 5
}
