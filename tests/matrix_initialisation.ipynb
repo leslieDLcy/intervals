{
 "cells": [
  {
   "cell_type": "markdown",
   "id": "64b25132-2920-474b-976b-f87f67666d5e",
   "metadata": {},
   "source": [
    "matrix_initialisation"
   ]
  },
  {
   "cell_type": "code",
   "execution_count": null,
   "id": "e12d38fb-eef4-4eee-b1e6-073105b956cc",
   "metadata": {},
   "outputs": [],
   "source": [
    "from intervals.number import Interval as I\n",
    "from intervals.methods import (lo,hi,mid,rad,width,intervalise)\n",
    "from intervals.random import uniform_endpoints \n",
    "from intervals.mat_features import initialise_interval_matrix, create_interval, dot, rowcol, rowcol2, intvl_matrix"
   ]
  },
  {
   "cell_type": "code",
   "execution_count": null,
   "id": "b993a247-9f1c-4e30-b115-28ae7d846df2",
   "metadata": {},
   "outputs": [],
   "source": [
    "import numpy as np"
   ]
  },
  {
   "cell_type": "code",
   "execution_count": null,
   "id": "a4edf763-94fa-470e-a03b-f509b9241e56",
   "metadata": {},
   "outputs": [],
   "source": [
    "%load_ext autoreload\n",
    "%autoreload 2"
   ]
  },
  {
   "cell_type": "code",
   "execution_count": null,
   "id": "4e7283e3-ea16-4260-a8a4-a9079ea7f1ce",
   "metadata": {},
   "outputs": [],
   "source": [
    "# interval matrix `initialisation` test\n",
    "\n",
    "- I'll first test a way to initialise an interval matrix, which is (2, m, n)\n",
    "\n",
    "- let's create a matrix whose shpae is (2,3,3)"
   ]
  },
  {
   "cell_type": "code",
   "execution_count": null,
   "id": "064f53ed-463c-41b9-a4b3-b6fa97b90ab3",
   "metadata": {},
   "outputs": [],
   "source": [
    "low = np.arange(9).reshape(3,3)\n",
    "low"
   ]
  },
  {
   "cell_type": "code",
   "execution_count": null,
   "id": "2fcb10df-c843-4038-b64c-84dded8664e6",
   "metadata": {},
   "outputs": [],
   "source": [
    "high = np.arange(10, 19).reshape(3,3)\n",
    "high"
   ]
  },
  {
   "cell_type": "code",
   "execution_count": null,
   "id": "24e8ef6a-83c8-4ec3-845e-1fe4fd3d1392",
   "metadata": {},
   "outputs": [],
   "source": [
    "intvl_matrix = initialise_interval_matrix(low, high)"
   ]
  },
  {
   "cell_type": "code",
   "execution_count": null,
   "id": "a1736678-c8e0-48f5-900a-beb639570717",
   "metadata": {},
   "outputs": [],
   "source": [
    "intvl_matrix"
   ]
  }
 ],
 "metadata": {
  "kernelspec": {
   "display_name": "Python 3 (ipykernel)",
   "language": "python",
   "name": "python3"
  },
  "language_info": {
   "codemirror_mode": {
    "name": "ipython",
    "version": 3
   },
   "file_extension": ".py",
   "mimetype": "text/x-python",
   "name": "python",
   "nbconvert_exporter": "python",
   "pygments_lexer": "ipython3",
   "version": "3.10.13"
  }
 },
 "nbformat": 4,
 "nbformat_minor": 5
}
