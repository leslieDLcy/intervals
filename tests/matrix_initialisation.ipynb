{
 "cells": [
  {
   "cell_type": "markdown",
   "id": "64b25132-2920-474b-976b-f87f67666d5e",
   "metadata": {},
   "source": [
    "matrix_initialisation"
   ]
  },
  {
   "cell_type": "code",
   "execution_count": 2,
   "id": "e12d38fb-eef4-4eee-b1e6-073105b956cc",
   "metadata": {},
   "outputs": [],
   "source": [
    "from intervals.number import Interval as I\n",
    "from intervals.methods import (lo,hi,mid,rad,width,intervalise)\n",
    "from intervals.random import uniform_endpoints \n",
    "from intervals.mat_features import initialise_interval_matrix, create_interval, dot, rowcol, rowcol2, intvl_matmul"
   ]
  },
  {
   "cell_type": "code",
   "execution_count": 3,
   "id": "b993a247-9f1c-4e30-b115-28ae7d846df2",
   "metadata": {},
   "outputs": [],
   "source": [
    "import numpy as np"
   ]
  },
  {
   "cell_type": "code",
   "execution_count": 4,
   "id": "a4edf763-94fa-470e-a03b-f509b9241e56",
   "metadata": {},
   "outputs": [],
   "source": [
    "%load_ext autoreload\n",
    "%autoreload 2"
   ]
  },
  {
   "cell_type": "markdown",
   "id": "d82207b3-a49d-4d5f-90db-59ad1599c5a2",
   "metadata": {},
   "source": [
    "# interval matrix `initialisation` test\n",
    "\n",
    "- I'll first test a way to initialise an interval matrix, which is (2, m, n)\n",
    "\n",
    "- let's create a matrix whose shpae is (2,3,3)"
   ]
  },
  {
   "cell_type": "code",
   "execution_count": 7,
   "id": "064f53ed-463c-41b9-a4b3-b6fa97b90ab3",
   "metadata": {},
   "outputs": [
    {
     "data": {
      "text/plain": [
       "array([[0, 1, 2],\n",
       "       [3, 4, 5],\n",
       "       [6, 7, 8]])"
      ]
     },
     "execution_count": 7,
     "metadata": {},
     "output_type": "execute_result"
    }
   ],
   "source": [
    "low = np.arange(9).reshape(3,3)\n",
    "low"
   ]
  },
  {
   "cell_type": "code",
   "execution_count": 8,
   "id": "2fcb10df-c843-4038-b64c-84dded8664e6",
   "metadata": {},
   "outputs": [
    {
     "data": {
      "text/plain": [
       "array([[10, 11, 12],\n",
       "       [13, 14, 15],\n",
       "       [16, 17, 18]])"
      ]
     },
     "execution_count": 8,
     "metadata": {},
     "output_type": "execute_result"
    }
   ],
   "source": [
    "high = np.arange(10, 19).reshape(3,3)\n",
    "high"
   ]
  },
  {
   "cell_type": "code",
   "execution_count": 9,
   "id": "24e8ef6a-83c8-4ec3-845e-1fe4fd3d1392",
   "metadata": {},
   "outputs": [],
   "source": [
    "intvl_matrix = initialise_interval_matrix(low, high)"
   ]
  },
  {
   "cell_type": "code",
   "execution_count": 10,
   "id": "a1736678-c8e0-48f5-900a-beb639570717",
   "metadata": {},
   "outputs": [
    {
     "data": {
      "text/plain": [
       "[ 0. 10.] [ 1. 11.] [ 2. 12.]\n",
       "[ 3. 13.] [ 4. 14.] [ 5. 15.]\n",
       "[ 6. 16.] [ 7. 17.] [ 8. 18.]"
      ]
     },
     "execution_count": 10,
     "metadata": {},
     "output_type": "execute_result"
    }
   ],
   "source": [
    "intvl_matrix"
   ]
  }
 ],
 "metadata": {
  "kernelspec": {
   "display_name": "transformer",
   "language": "python",
   "name": "transformer"
  },
  "language_info": {
   "codemirror_mode": {
    "name": "ipython",
    "version": 3
   },
   "file_extension": ".py",
   "mimetype": "text/x-python",
   "name": "python",
   "nbconvert_exporter": "python",
   "pygments_lexer": "ipython3",
   "version": "3.11.4"
  }
 },
 "nbformat": 4,
 "nbformat_minor": 5
}
