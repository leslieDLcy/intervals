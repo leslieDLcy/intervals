{
 "cells": [
  {
   "cell_type": "code",
   "execution_count": 17,
   "id": "340b20c6-58ae-4175-a4cf-757905bb8c47",
   "metadata": {},
   "outputs": [],
   "source": [
    "from intervals.number import Interval as I\n",
    "from intervals.methods import (lo,hi,mid,rad,width,intervalise, exp)\n",
    "from intervals.random import uniform_endpoints \n",
    "from intervals.plotting import plot_intervals, plot_lower_bound\n",
    "from intervals.mat_features import create_interval\n",
    "from intervals.activation import sigmoid, tanh"
   ]
  },
  {
   "cell_type": "code",
   "execution_count": 2,
   "id": "808b0878-876e-42b3-b603-b41b4b941407",
   "metadata": {},
   "outputs": [],
   "source": [
    "import numpy as np\n",
    "import matplotlib.pyplot as plt"
   ]
  },
  {
   "cell_type": "code",
   "execution_count": 3,
   "id": "38fea7d5-233c-409d-8cf8-a5ff3bf1b95e",
   "metadata": {},
   "outputs": [],
   "source": [
    "%load_ext autoreload\n",
    "%autoreload 2"
   ]
  },
  {
   "cell_type": "code",
   "execution_count": 4,
   "id": "725c8f94-a582-4a44-8296-ca9de529dad3",
   "metadata": {},
   "outputs": [],
   "source": [
    "x = np.arange(4)\n",
    "y = np.arange(4)"
   ]
  },
  {
   "cell_type": "code",
   "execution_count": 7,
   "id": "957cbb39-6781-4bdc-b546-8fddd0ba2a54",
   "metadata": {},
   "outputs": [
    {
     "data": {
      "text/plain": [
       "[0.0,0.0]\n",
       "[0.5,1.5]\n",
       "[1.0,3.0]\n",
       "[1.5,4.5]"
      ]
     },
     "execution_count": 7,
     "metadata": {},
     "output_type": "execute_result"
    }
   ],
   "source": [
    "y_i = create_interval(matrix=y, half_width=0.5)\n",
    "y_i"
   ]
  },
  {
   "cell_type": "code",
   "execution_count": null,
   "id": "933a61b0-ab3b-4084-9e50-6ff99a41ec66",
   "metadata": {},
   "outputs": [],
   "source": []
  },
  {
   "cell_type": "code",
   "execution_count": 18,
   "id": "009bae25-a281-47bf-8330-556878ffcdb8",
   "metadata": {},
   "outputs": [
    {
     "data": {
      "image/png": "[encoded data removed]",
      "text/plain": [
       "<Figure size 640x480 with 1 Axes>"
      ]
     },
     "metadata": {},
     "output_type": "display_data"
    }
   ],
   "source": [
    "# draw up a regular sigmoid function\n",
    "\n",
    "# Import matplotlib, numpy and math \n",
    "import matplotlib.pyplot as plt \n",
    "import numpy as np \n",
    "import math \n",
    "\n",
    "x = np.linspace(-10, 10, 100) \n",
    "\n",
    "def regu_logistic(x): \n",
    "    z = 1/(1 + np.exp(-x)) \n",
    "    return z\n",
    "\n",
    "plt.plot(x, z) \n",
    "plt.xlabel(\"x\") \n",
    "plt.ylabel(\"Sigmoid(X)\") \n",
    "\n",
    "plt.show() \n"
   ]
  },
  {
   "cell_type": "code",
   "execution_count": 19,
   "id": "f956853f-12a2-4973-b7de-9d54c1972fb2",
   "metadata": {},
   "outputs": [],
   "source": []
  },
  {
   "cell_type": "code",
   "execution_count": 22,
   "id": "afa9ec48-fc3a-42b1-a4b5-11b90f4d39d1",
   "metadata": {},
   "outputs": [
    {
     "name": "stdout",
     "output_type": "stream",
     "text": [
      "(-2.5, 0.07585818002124355)\n"
     ]
    }
   ],
   "source": [
    "x0 = -2.5\n",
    "y0 = regu_logistic(x=x0)\n",
    "print(f'({x0}, {y0})')"
   ]
  },
  {
   "cell_type": "code",
   "execution_count": 23,
   "id": "6fe4466a-4b27-4705-b0ff-d435a57ddd11",
   "metadata": {},
   "outputs": [
    {
     "name": "stdout",
     "output_type": "stream",
     "text": [
      "(2.5, 0.9241418199787566)\n"
     ]
    }
   ],
   "source": [
    "x0 = 2.5\n",
    "y0 = regu_logistic(x=x0)\n",
    "print(f'({x0}, {y0})')"
   ]
  },
  {
   "cell_type": "code",
   "execution_count": 24,
   "id": "061df87e-d1a0-4f75-889c-4d4a76d333dc",
   "metadata": {},
   "outputs": [
    {
     "data": {
      "text/plain": [
       "[-2.5,2.5]"
      ]
     },
     "execution_count": 24,
     "metadata": {},
     "output_type": "execute_result"
    }
   ],
   "source": [
    "test_i = I(-2.5, 2.5)\n",
    "test_i"
   ]
  },
  {
   "cell_type": "code",
   "execution_count": 26,
   "id": "d6c33165-f954-4e74-ac20-114594397625",
   "metadata": {},
   "outputs": [
    {
     "data": {
      "text/plain": [
       "[0.07585818002124355,0.9241418199787566]"
      ]
     },
     "execution_count": 26,
     "metadata": {},
     "output_type": "execute_result"
    }
   ],
   "source": [
    "y_test_i = sigmoid(test_i)\n",
    "y_test_i"
   ]
  },
  {
   "cell_type": "code",
   "execution_count": null,
   "id": "0f17d3f8-39e0-408f-9a72-b189e86c22d2",
   "metadata": {},
   "outputs": [],
   "source": []
  },
  {
   "cell_type": "code",
   "execution_count": 27,
   "id": "b856e442-7ec7-4b6c-81f7-c4437c9e1005",
   "metadata": {},
   "outputs": [
    {
     "name": "stdout",
     "output_type": "stream",
     "text": [
      "base vector with shape (3,)\n"
     ]
    },
    {
     "data": {
      "text/plain": [
       "[0.9,1.1]\n",
       "[2.7,3.3000000000000003]\n",
       "[4.5,5.5]"
      ]
     },
     "execution_count": 27,
     "metadata": {},
     "output_type": "execute_result"
    }
   ],
   "source": [
    "vec = create_interval(matrix=np.array([1, 3, 5]))\n",
    "print(\"base vector with shape\", vec.shape)\n",
    "vec"
   ]
  },
  {
   "cell_type": "code",
   "execution_count": 28,
   "id": "5c735ddc-5896-4926-9adf-6a1072936e1d",
   "metadata": {},
   "outputs": [
    {
     "name": "stdout",
     "output_type": "stream",
     "text": [
      "[0.7109495026250039,0.7502601055951177]\n",
      "[0.9370266439430035,0.9644288107273639]\n",
      "[0.9890130573694068,0.995929862284104]\n"
     ]
    }
   ],
   "source": [
    "print(sigmoid(vec))"
   ]
  },
  {
   "cell_type": "code",
   "execution_count": null,
   "id": "9fcdd40c-e078-4da2-b20f-4dec852ec8aa",
   "metadata": {},
   "outputs": [],
   "source": []
  },
  {
   "cell_type": "code",
   "execution_count": null,
   "id": "f78d252b-3a50-4ecf-9997-2ae3076bd44b",
   "metadata": {},
   "outputs": [],
   "source": []
  },
  {
   "cell_type": "code",
   "execution_count": null,
   "id": "7e90f111-71e3-498c-8315-29232eecdcfb",
   "metadata": {},
   "outputs": [],
   "source": []
  },
  {
   "cell_type": "code",
   "execution_count": null,
   "id": "a83d3079-122f-4025-9fdd-d5a563354c83",
   "metadata": {},
   "outputs": [],
   "source": []
  },
  {
   "cell_type": "code",
   "execution_count": 12,
   "id": "18307e47-7967-4ad6-9178-d667e3590eb3",
   "metadata": {},
   "outputs": [
    {
     "data": {
      "image/png": "[encoded data removed]",
      "text/plain": [
       "<Figure size 640x480 with 1 Axes>"
      ]
     },
     "metadata": {},
     "output_type": "display_data"
    }
   ],
   "source": [
    "# plot a vector interval\n",
    "_ = plot_intervals(x, y_i)"
   ]
  },
  {
   "cell_type": "code",
   "execution_count": 13,
   "id": "7ad57e12-fcd2-4279-bd3e-7864dd355870",
   "metadata": {},
   "outputs": [
    {
     "data": {
      "text/plain": [
       "<Axes: >"
      ]
     },
     "execution_count": 13,
     "metadata": {},
     "output_type": "execute_result"
    },
    {
     "data": {
      "image/png": "[encoded data removed]",
      "text/plain": [
       "<Figure size 640x480 with 1 Axes>"
      ]
     },
     "metadata": {},
     "output_type": "display_data"
    }
   ],
   "source": [
    "# plot scaler interval\n",
    "plot_intervals(x[2], y_i[2])"
   ]
  }
 ],
 "metadata": {
  "kernelspec": {
   "display_name": "transformer",
   "language": "python",
   "name": "transformer"
  },
  "language_info": {
   "codemirror_mode": {
    "name": "ipython",
    "version": 3
   },
   "file_extension": ".py",
   "mimetype": "text/x-python",
   "name": "python",
   "nbconvert_exporter": "python",
   "pygments_lexer": "ipython3",
   "version": "3.11.4"
  }
 },
 "nbformat": 4,
 "nbformat_minor": 5
}
