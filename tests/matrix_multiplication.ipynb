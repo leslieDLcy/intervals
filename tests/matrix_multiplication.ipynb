{
 "cells": [
  {
   "cell_type": "markdown",
   "id": "bb67a0bf-f22e-4fde-9a2e-4c524333920c",
   "metadata": {
    "tags": []
   },
   "source": [
    "# interval matrix `calculation` test\n",
    "\n",
    "- test with simple 3 by 3 case\n",
    "- current workflow will work as long as there is no shape as 2"
   ]
  },
  {
   "cell_type": "code",
   "execution_count": 1,
   "id": "f6e8b17c-ae64-4d94-9ed7-0628ebcc22dd",
   "metadata": {},
   "outputs": [],
   "source": [
    "from intervals.number import Interval as I\n",
    "from intervals.methods import (lo,hi,mid,rad,width,intervalise, exp)\n",
    "from intervals.random import uniform_endpoints \n",
    "from intervals.mat_features import consume_interval, create_interval, dot, rowcol, rowcol2, intvl_matmul, consume_list"
   ]
  },
  {
   "cell_type": "code",
   "execution_count": 2,
   "id": "7778e3c6-c484-49d6-ad56-7d8f4b1fc45a",
   "metadata": {},
   "outputs": [],
   "source": [
    "from intervals.activation import sigmoid, tanh"
   ]
  },
  {
   "cell_type": "code",
   "execution_count": 3,
   "id": "eb56342b-b2d3-4fd7-85e1-a45f64e12b44",
   "metadata": {},
   "outputs": [],
   "source": [
    "import numpy as np"
   ]
  },
  {
   "cell_type": "code",
   "execution_count": 4,
   "id": "95064f3d-8f26-403a-97f2-ffc944bd4e5f",
   "metadata": {},
   "outputs": [],
   "source": [
    "%load_ext autoreload\n",
    "%autoreload 2"
   ]
  },
  {
   "cell_type": "markdown",
   "id": "bd29348b-91be-43b7-800b-741a918336b3",
   "metadata": {
    "tags": []
   },
   "source": [
    "#### mat @ mat"
   ]
  },
  {
   "cell_type": "code",
   "execution_count": 5,
   "id": "4d151557-6451-4e1e-8bf9-2d57c4d7950d",
   "metadata": {},
   "outputs": [],
   "source": [
    "a = np.arange(9).reshape(3,3)"
   ]
  },
  {
   "cell_type": "code",
   "execution_count": 6,
   "id": "79da63ed-bd11-4117-8a7d-0826d873a200",
   "metadata": {},
   "outputs": [
    {
     "data": {
      "text/plain": [
       "[0. 0.] [0.9 1.1] [1.8 2.2]\n",
       "[2.7 3.3] [3.6 4.4] [4.5 5.5]\n",
       "[5.4 6.6] [6.3 7.7] [7.2 8.8]"
      ]
     },
     "execution_count": 6,
     "metadata": {},
     "output_type": "execute_result"
    }
   ],
   "source": [
    "v1 = create_interval(matrix=a, half_width=0.1)\n",
    "v1"
   ]
  },
  {
   "cell_type": "code",
   "execution_count": 7,
   "id": "aa4e3c4d-7163-4ad3-8f17-2ab8f5b8039e",
   "metadata": {},
   "outputs": [
    {
     "data": {
      "text/plain": [
       "[12.15 18.15] [34.02 50.82] [55.89 83.49]\n",
       "[14.58 21.78] [43.74 65.34] [ 72.9 108.9]\n",
       "[17.01 25.41] [53.46 79.86] [ 89.91 134.31]"
      ]
     },
     "execution_count": 7,
     "metadata": {},
     "output_type": "execute_result"
    }
   ],
   "source": [
    "\n",
    "mat_mul_test = intvl_matmul(v1, v1)\n",
    "mat_mul_test"
   ]
  },
  {
   "cell_type": "markdown",
   "id": "f5e18d79-62f4-462b-80ca-50b947a7fe84",
   "metadata": {
    "tags": []
   },
   "source": [
    "#### row @ mat"
   ]
  },
  {
   "cell_type": "code",
   "execution_count": 8,
   "id": "dadc30a0-8f0b-4cce-b3fa-f82cf86612cc",
   "metadata": {},
   "outputs": [
    {
     "name": "stdout",
     "output_type": "stream",
     "text": [
      "(3,)\n"
     ]
    },
    {
     "data": {
      "text/plain": [
       "[0.9,1.1]\n",
       "[2.7,3.3000000000000003]\n",
       "[4.5,5.5]"
      ]
     },
     "execution_count": 8,
     "metadata": {},
     "output_type": "execute_result"
    }
   ],
   "source": [
    "vec = create_interval(matrix=np.array([1, 3, 5]))\n",
    "print(vec.shape)\n",
    "vec"
   ]
  },
  {
   "cell_type": "code",
   "execution_count": 9,
   "id": "bb37117e-7156-4273-8f68-c373dfb289fe",
   "metadata": {},
   "outputs": [
    {
     "data": {
      "text/plain": [
       "(3,)"
      ]
     },
     "execution_count": 9,
     "metadata": {},
     "output_type": "execute_result"
    }
   ],
   "source": [
    "vec.shape"
   ]
  },
  {
   "cell_type": "code",
   "execution_count": 10,
   "id": "dda27fcf-29cc-4454-926f-b2bd7bb70715",
   "metadata": {},
   "outputs": [
    {
     "data": {
      "text/plain": [
       "[0.9,1.1]"
      ]
     },
     "execution_count": 10,
     "metadata": {},
     "output_type": "execute_result"
    }
   ],
   "source": [
    "vec[0]"
   ]
  },
  {
   "cell_type": "code",
   "execution_count": 11,
   "id": "f9ed7783-218a-4757-ad14-e9dd7a04c850",
   "metadata": {},
   "outputs": [
    {
     "name": "stdout",
     "output_type": "stream",
     "text": [
      "x shall be a 2 dimensional array\n",
      "x shall be a 2 dimensional array\n",
      "x shall be a 2 dimensional array\n"
     ]
    },
    {
     "data": {
      "text/plain": [
       "[nan,nan]\n",
       "[nan,nan]\n",
       "[nan,nan]"
      ]
     },
     "execution_count": 11,
     "metadata": {},
     "output_type": "execute_result"
    }
   ],
   "source": [
    "intvl_matmul(vec, v1)"
   ]
  },
  {
   "cell_type": "code",
   "execution_count": 16,
   "id": "68ae81db-9b26-4bbb-bc03-ef0f524cf659",
   "metadata": {},
   "outputs": [
    {
     "name": "stdout",
     "output_type": "stream",
     "text": [
      "x shall be a 2 dimensional array\n"
     ]
    }
   ],
   "source": [
    "rowcol2(vec, v1)"
   ]
  },
  {
   "cell_type": "code",
   "execution_count": 12,
   "id": "4eff5388-d7b3-4202-a34b-6dcc102a8ce9",
   "metadata": {},
   "outputs": [
    {
     "name": "stdout",
     "output_type": "stream",
     "text": [
      "(1, 3)\n"
     ]
    },
    {
     "data": {
      "text/plain": [
       "[0.9 1.1] [2.7 3.3] [4.5 5.5]"
      ]
     },
     "execution_count": 12,
     "metadata": {},
     "output_type": "execute_result"
    }
   ],
   "source": [
    "row_vec = create_interval(matrix=np.array([[1, 3, 5]]))\n",
    "print(row_vec.shape)\n",
    "row_vec"
   ]
  },
  {
   "cell_type": "code",
   "execution_count": null,
   "id": "f5995b3c-6f73-4f13-b299-160d83ddcf7b",
   "metadata": {},
   "outputs": [],
   "source": [
    "# In theory, (1 by 3) @ (3 by 3)"
   ]
  },
  {
   "cell_type": "code",
   "execution_count": null,
   "id": "9a2c2999-2a7d-4376-b0fd-70089a4f519c",
   "metadata": {},
   "outputs": [],
   "source": [
    "# what if we explicitly write down the row vector as (1 by 3)"
   ]
  },
  {
   "cell_type": "code",
   "execution_count": 20,
   "id": "f19a824e-afbf-44dc-9f4b-5ebe114a1419",
   "metadata": {},
   "outputs": [
    {
     "name": "stdout",
     "output_type": "stream",
     "text": [
      "(3, 1)\n"
     ]
    },
    {
     "data": {
      "text/plain": [
       "[31.59 47.19]\n",
       "[38.88 58.08]\n",
       "[46.17 68.97]"
      ]
     },
     "execution_count": 20,
     "metadata": {},
     "output_type": "execute_result"
    }
   ],
   "source": [
    "tt = intvl_matmul(row_vec, v1)\n",
    "print(tt.shape)\n",
    "tt"
   ]
  },
  {
   "cell_type": "code",
   "execution_count": 32,
   "id": "f6098480-d5af-48c0-acea-0026597818b8",
   "metadata": {},
   "outputs": [
    {
     "name": "stdout",
     "output_type": "stream",
     "text": [
      "[31.590000000000003,47.190000000000005]\n",
      "[38.879999999999995,58.08000000000001]\n",
      "[46.17,68.97000000000001]\n"
     ]
    }
   ],
   "source": [
    "for i in tt:\n",
    "    print(i)"
   ]
  },
  {
   "cell_type": "code",
   "execution_count": 35,
   "id": "24aed9d8-2345-4046-928c-dab988247b13",
   "metadata": {},
   "outputs": [
    {
     "data": {
      "text/plain": [
       "['_Interval__hi',\n",
       " '_Interval__lo',\n",
       " '_Interval__shape',\n",
       " '__add__',\n",
       " '__class__',\n",
       " '__delattr__',\n",
       " '__dict__',\n",
       " '__dir__',\n",
       " '__doc__',\n",
       " '__eq__',\n",
       " '__format__',\n",
       " '__ge__',\n",
       " '__getattribute__',\n",
       " '__getitem__',\n",
       " '__getstate__',\n",
       " '__gt__',\n",
       " '__hash__',\n",
       " '__init__',\n",
       " '__init_subclass__',\n",
       " '__iter__',\n",
       " '__le__',\n",
       " '__len__',\n",
       " '__lt__',\n",
       " '__module__',\n",
       " '__mul__',\n",
       " '__ne__',\n",
       " '__neg__',\n",
       " '__new__',\n",
       " '__next__',\n",
       " '__pos__',\n",
       " '__pow__',\n",
       " '__radd__',\n",
       " '__reduce__',\n",
       " '__reduce_ex__',\n",
       " '__repr__',\n",
       " '__rge__',\n",
       " '__rgt__',\n",
       " '__rle__',\n",
       " '__rlt__',\n",
       " '__rmul__',\n",
       " '__rsub__',\n",
       " '__rtruediv__',\n",
       " '__setattr__',\n",
       " '__sizeof__',\n",
       " '__str__',\n",
       " '__sub__',\n",
       " '__subclasshook__',\n",
       " '__truediv__',\n",
       " '__weakref__',\n",
       " 'hi',\n",
       " 'lo',\n",
       " 'scalar',\n",
       " 'shape',\n",
       " 'unsized',\n",
       " 'val']"
      ]
     },
     "execution_count": 35,
     "metadata": {},
     "output_type": "execute_result"
    }
   ],
   "source": [
    "dir(tt)"
   ]
  },
  {
   "cell_type": "code",
   "execution_count": null,
   "id": "1cddc556-f4da-42a4-9ccb-01e7a52098eb",
   "metadata": {},
   "outputs": [],
   "source": []
  },
  {
   "cell_type": "code",
   "execution_count": 36,
   "id": "3f915c01-50c9-48eb-a996-9f01128d8d4d",
   "metadata": {},
   "outputs": [
    {
     "data": {
      "text/plain": [
       "array([[31.59],\n",
       "       [38.88],\n",
       "       [46.17]])"
      ]
     },
     "execution_count": 36,
     "metadata": {},
     "output_type": "execute_result"
    }
   ],
   "source": [
    "tt.lo"
   ]
  },
  {
   "cell_type": "code",
   "execution_count": 38,
   "id": "af2c2205-0dc2-4077-8873-a8439160d3d3",
   "metadata": {},
   "outputs": [
    {
     "data": {
      "text/plain": [
       "array([[47.19],\n",
       "       [58.08],\n",
       "       [68.97]])"
      ]
     },
     "execution_count": 38,
     "metadata": {},
     "output_type": "execute_result"
    }
   ],
   "source": [
    "tt.hi"
   ]
  },
  {
   "cell_type": "code",
   "execution_count": 48,
   "id": "bf7c771f-e297-46b5-8af8-71ba14ed430b",
   "metadata": {},
   "outputs": [],
   "source": [
    "def reshape(interval):\n",
    "    length = len(interval)\n",
    "    new =  I(lo=np.squeeze(interval.lo), hi=np.squeeze(interval.hi))\n",
    "    return new[np.newaxis, :]"
   ]
  },
  {
   "cell_type": "code",
   "execution_count": 49,
   "id": "5dfbe597-4ba6-4669-a6f1-8b4d3400c0a1",
   "metadata": {},
   "outputs": [],
   "source": [
    "new = reshape(tt)"
   ]
  },
  {
   "cell_type": "code",
   "execution_count": 50,
   "id": "379ef942-6691-4ce4-89a8-627e35634db4",
   "metadata": {},
   "outputs": [
    {
     "data": {
      "text/plain": [
       "(1, 3)"
      ]
     },
     "execution_count": 50,
     "metadata": {},
     "output_type": "execute_result"
    }
   ],
   "source": [
    "new.shape"
   ]
  },
  {
   "cell_type": "code",
   "execution_count": 51,
   "id": "fee62ac2-3f42-421b-9b96-5bfec3218d35",
   "metadata": {},
   "outputs": [
    {
     "data": {
      "text/plain": [
       "[31.59 47.19] [38.88 58.08] [46.17 68.97]"
      ]
     },
     "execution_count": 51,
     "metadata": {},
     "output_type": "execute_result"
    }
   ],
   "source": [
    "new"
   ]
  },
  {
   "cell_type": "code",
   "execution_count": null,
   "id": "1c9c2e95-a4a3-4041-a828-524bfba0305b",
   "metadata": {},
   "outputs": [],
   "source": []
  },
  {
   "cell_type": "code",
   "execution_count": null,
   "id": "93d79e7e-57be-454b-97f1-96c708454bd9",
   "metadata": {},
   "outputs": [],
   "source": []
  },
  {
   "cell_type": "markdown",
   "id": "70d232da-a898-449b-aa13-b6696272d2c2",
   "metadata": {
    "tags": []
   },
   "source": [
    "#### mat @ col_vec"
   ]
  },
  {
   "cell_type": "code",
   "execution_count": null,
   "id": "6db7d27c-3493-45af-bf03-6fd3ac53bfe8",
   "metadata": {},
   "outputs": [],
   "source": [
    "# given a matrix\n",
    "v1"
   ]
  },
  {
   "cell_type": "code",
   "execution_count": null,
   "id": "eb667504-afbb-4be1-886e-d757f0535d6c",
   "metadata": {},
   "outputs": [],
   "source": [
    "intvl_matmul(v1, vec)"
   ]
  },
  {
   "cell_type": "code",
   "execution_count": null,
   "id": "77879741-133a-4ef2-94bd-d0d75650aea3",
   "metadata": {},
   "outputs": [],
   "source": [
    "# therefore, marco's rowvec works when the latter vec is just a vector\n",
    "\n",
    "test_marco = rowcol2(v1, vec)\n",
    "print(test_marco.shape)\n",
    "test_marco"
   ]
  },
  {
   "cell_type": "code",
   "execution_count": null,
   "id": "c835a252-6aed-43fb-91a2-3fe62307ed12",
   "metadata": {},
   "outputs": [],
   "source": [
    "# what if we explicitly express a col vector\n",
    "\n",
    "col_vec = create_interval(matrix=np.array([1, 3, 5]))\n",
    "col_vec.shape"
   ]
  },
  {
   "cell_type": "code",
   "execution_count": null,
   "id": "55846437-7298-43c7-92f9-a49d85da66a8",
   "metadata": {},
   "outputs": [],
   "source": [
    "col_vec = col_vec[:, np.newaxis]\n",
    "print(col_vec.shape)\n",
    "col_vec"
   ]
  },
  {
   "cell_type": "code",
   "execution_count": null,
   "id": "6fe6ff32-de12-45ee-95f4-95a8b4d27385",
   "metadata": {},
   "outputs": [],
   "source": [
    "intvl_matmul(v1, col_vec)"
   ]
  },
  {
   "cell_type": "code",
   "execution_count": null,
   "id": "cff4877d-0a67-4e0a-9804-911231fba552",
   "metadata": {},
   "outputs": [],
   "source": []
  },
  {
   "cell_type": "code",
   "execution_count": null,
   "id": "a8b747e4-4f00-46a4-a527-ac17234d9b79",
   "metadata": {},
   "outputs": [],
   "source": []
  },
  {
   "cell_type": "code",
   "execution_count": null,
   "id": "63eb993c-1d64-4fe0-851f-6fc3cc90d31f",
   "metadata": {},
   "outputs": [],
   "source": []
  },
  {
   "cell_type": "markdown",
   "id": "ea3e169a-88cf-4645-b613-fc513f686bd1",
   "metadata": {
    "tags": []
   },
   "source": [
    "#### vector @ matrix"
   ]
  },
  {
   "cell_type": "code",
   "execution_count": null,
   "id": "67ede585-d4b3-4979-b111-8c191117a226",
   "metadata": {},
   "outputs": [],
   "source": [
    "# create a row vector \n",
    "\n",
    "row_vec = create_interval(matrix=np.array([1, 3, 5]))\n",
    "print(row_vec.shape)\n",
    "row_vec"
   ]
  },
  {
   "cell_type": "code",
   "execution_count": null,
   "id": "f75a5aaf-9013-4951-bb84-88a09d50b270",
   "metadata": {},
   "outputs": [],
   "source": [
    "# sigmoid(row_vec)"
   ]
  },
  {
   "cell_type": "code",
   "execution_count": null,
   "id": "0631a1bf-dd74-4b0e-88df-a102c073c9eb",
   "metadata": {},
   "outputs": [],
   "source": [
    "# sigmoid(v1)"
   ]
  },
  {
   "cell_type": "code",
   "execution_count": null,
   "id": "9e8d317c-7655-40eb-9f38-407d6310b66f",
   "metadata": {},
   "outputs": [],
   "source": [
    "# ''' add one more dimension succeeded '''\n",
    "\n",
    "# added_dim = row_vec[np.newaxis,:]\n",
    "# print(added_dim.shape)\n",
    "# added_dim"
   ]
  },
  {
   "cell_type": "code",
   "execution_count": null,
   "id": "9a58174a-49e1-48f6-af8c-2bc8efb98259",
   "metadata": {},
   "outputs": [],
   "source": [
    "''' lower dimension failed '''\n",
    "\n",
    "# np.ravel(added_dim)"
   ]
  },
  {
   "cell_type": "code",
   "execution_count": null,
   "id": "f8f0f97d-86b1-416c-866c-1c5c2cbeb445",
   "metadata": {},
   "outputs": [],
   "source": [
    "# matrix which is v1\n",
    "'''\n",
    "(3, ) @ (3,3)\n",
    "\n",
    "'''\n",
    "\n",
    "result = rowcol2(x=row_vec, W=v1)\n",
    "result"
   ]
  },
  {
   "cell_type": "code",
   "execution_count": null,
   "id": "5863a47b-c797-473b-8be0-1aa806af23b8",
   "metadata": {},
   "outputs": [],
   "source": [
    "result.shape"
   ]
  },
  {
   "cell_type": "code",
   "execution_count": null,
   "id": "e8c73ff7-1ade-47d1-b7be-7bcffc17569f",
   "metadata": {},
   "outputs": [],
   "source": [
    "result_ = intvl_matmul(x=row_vec, W=v1)\n",
    "type(result_)"
   ]
  },
  {
   "cell_type": "code",
   "execution_count": null,
   "id": "8d928b16-c5c8-4131-9e0d-deedd67484ba",
   "metadata": {},
   "outputs": [],
   "source": []
  },
  {
   "cell_type": "markdown",
   "id": "5668b7ad-298b-486a-a034-c98515a5c4b9",
   "metadata": {
    "jp-MarkdownHeadingCollapsed": true,
    "tags": []
   },
   "source": [
    "#### scaler @ vector"
   ]
  },
  {
   "cell_type": "code",
   "execution_count": null,
   "id": "c065ed91-870d-4bce-82fa-781036536cc1",
   "metadata": {},
   "outputs": [],
   "source": [
    "# scalar\n",
    "x = 3\n",
    "x_intvl = create_interval(matrix=x)\n",
    "x_intvl"
   ]
  },
  {
   "cell_type": "code",
   "execution_count": null,
   "id": "57d11069-0ecf-4266-8798-6b5e4e71923b",
   "metadata": {},
   "outputs": [],
   "source": [
    "# a vector\n",
    "W1 = np.array([[1, 3, 5]])"
   ]
  },
  {
   "cell_type": "code",
   "execution_count": null,
   "id": "f3643fdb-387d-40dc-a1c6-6e8ee738a3ac",
   "metadata": {},
   "outputs": [],
   "source": [
    "W1_intvl = create_interval(matrix=W1)\n",
    "W1_intvl"
   ]
  },
  {
   "cell_type": "code",
   "execution_count": null,
   "id": "b8ddeda1-0d4c-4994-aef8-89c677a7f009",
   "metadata": {},
   "outputs": [],
   "source": [
    "W1_intvl.shape"
   ]
  },
  {
   "cell_type": "code",
   "execution_count": null,
   "id": "ea3b0076-545a-4014-a01c-a7b00bdfad00",
   "metadata": {},
   "outputs": [],
   "source": [
    "''' \n",
    "(3, ) @ (1, 3)\n",
    "'''\n",
    "\n",
    "h1 = x_intvl * W1_intvl\n",
    "h1"
   ]
  },
  {
   "cell_type": "code",
   "execution_count": null,
   "id": "c5b06fc9-177b-4c6f-a03f-cf78b506e4a7",
   "metadata": {},
   "outputs": [],
   "source": [
    "h1.shape"
   ]
  },
  {
   "cell_type": "code",
   "execution_count": null,
   "id": "2c8056b0-c95e-4048-b6b9-b1fc54dd7e83",
   "metadata": {},
   "outputs": [],
   "source": [
    "'''\n",
    "a further test where if (I) a scalar * interval vector matches with (II) scalar interval * interval vector\n",
    "'''"
   ]
  },
  {
   "cell_type": "code",
   "execution_count": null,
   "id": "90868753-32eb-48d9-a2cc-eb5caad50a95",
   "metadata": {},
   "outputs": [],
   "source": [
    "x = np.array([3.2])"
   ]
  },
  {
   "cell_type": "code",
   "execution_count": null,
   "id": "c049bfdf-eb62-4d37-958d-34e8642f639a",
   "metadata": {},
   "outputs": [],
   "source": [
    "# scaler * interval vector\n",
    "x2 = I(3.2, 3.2)\n",
    "x2"
   ]
  },
  {
   "cell_type": "code",
   "execution_count": null,
   "id": "90d81cb1-8b19-4ee4-9429-460805f63f1d",
   "metadata": {},
   "outputs": [],
   "source": [
    "3.2 * h1 == x2 * h1 "
   ]
  },
  {
   "cell_type": "code",
   "execution_count": null,
   "id": "9f8f1d70-c66e-4003-b58c-f253f5b24a08",
   "metadata": {},
   "outputs": [],
   "source": []
  },
  {
   "cell_type": "code",
   "execution_count": null,
   "id": "bb1a50bc-00b0-4a98-bbb9-c5bdb4de1f0a",
   "metadata": {},
   "outputs": [],
   "source": []
  },
  {
   "cell_type": "markdown",
   "id": "3f04e74c-3d22-4588-90bd-0895933a5b9d",
   "metadata": {
    "tags": []
   },
   "source": [
    "#### vector @ vector\n",
    "\n",
    "> to mimic the second layer propagation, from h1 to output\n",
    "\n",
    "> (1 by 3) * (3 by 1)\n",
    "\n",
    "> y = hidden_tensor * W2_int"
   ]
  },
  {
   "cell_type": "code",
   "execution_count": null,
   "id": "55848810-9cfc-4328-b2d2-497f3c24de94",
   "metadata": {},
   "outputs": [],
   "source": [
    "# consider a column vector\n",
    "\n",
    "W2 = np.array([1, 3, 5])[:, np.newaxis]"
   ]
  },
  {
   "cell_type": "code",
   "execution_count": null,
   "id": "343ea692-fea7-4650-a45c-42b108dd8aed",
   "metadata": {},
   "outputs": [],
   "source": [
    "W2_intvl = create_interval(matrix=W2)\n",
    "print(W2_intvl.shape)\n",
    "W2_intvl"
   ]
  },
  {
   "cell_type": "code",
   "execution_count": null,
   "id": "5f9e63cf-80b8-434d-bcb2-f1aac363a127",
   "metadata": {},
   "outputs": [],
   "source": []
  },
  {
   "cell_type": "code",
   "execution_count": null,
   "id": "136c2bd5-81ad-41dc-aa56-aaeef7270828",
   "metadata": {},
   "outputs": [],
   "source": [
    "y_hat = intvl_matmul(x=h1, W=W2_intvl)\n",
    "y_hat"
   ]
  },
  {
   "cell_type": "code",
   "execution_count": null,
   "id": "f0ee30f5-1951-4bb1-a1c6-59adcb9b4219",
   "metadata": {},
   "outputs": [],
   "source": [
    "y_hat2 = intvl_matmul(x=h1, W=v1)\n",
    "y_hat2"
   ]
  },
  {
   "cell_type": "markdown",
   "id": "66e3bc0f-eb3c-452a-b7ac-2dba3a898270",
   "metadata": {},
   "source": [
    "# activation function"
   ]
  },
  {
   "cell_type": "code",
   "execution_count": null,
   "id": "5c7d91b8-31e2-46f3-b4b6-02223ded3d7a",
   "metadata": {},
   "outputs": [],
   "source": [
    "# sigmoid(x_intvl)"
   ]
  }
 ],
 "metadata": {
  "kernelspec": {
   "display_name": "transformer",
   "language": "python",
   "name": "transformer"
  },
  "language_info": {
   "codemirror_mode": {
    "name": "ipython",
    "version": 3
   },
   "file_extension": ".py",
   "mimetype": "text/x-python",
   "name": "python",
   "nbconvert_exporter": "python",
   "pygments_lexer": "ipython3",
   "version": "3.11.4"
  },
  "toc-autonumbering": true
 },
 "nbformat": 4,
 "nbformat_minor": 5
}
