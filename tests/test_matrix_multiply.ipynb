{
 "cells": [
  {
   "cell_type": "code",
   "execution_count": 1,
   "id": "f6e8b17c-ae64-4d94-9ed7-0628ebcc22dd",
   "metadata": {},
   "outputs": [],
   "source": [
    "from intervals.number import Interval as I\n",
    "from intervals.methods import (lo,hi,mid,rad,width,intervalise, exp)\n",
    "from intervals.random import uniform_endpoints \n",
    "from intervals.mat_features import initialise_interval_matrix, create_interval, dot, rowcol, rowcol2, intvl_matmul, consume_list"
   ]
  },
  {
   "cell_type": "code",
   "execution_count": 2,
   "id": "7778e3c6-c484-49d6-ad56-7d8f4b1fc45a",
   "metadata": {},
   "outputs": [],
   "source": [
    "from intervals.activation import sigmoid, tanh"
   ]
  },
  {
   "cell_type": "code",
   "execution_count": 3,
   "id": "eb56342b-b2d3-4fd7-85e1-a45f64e12b44",
   "metadata": {},
   "outputs": [],
   "source": [
    "import numpy as np"
   ]
  },
  {
   "cell_type": "code",
   "execution_count": 4,
   "id": "95064f3d-8f26-403a-97f2-ffc944bd4e5f",
   "metadata": {},
   "outputs": [],
   "source": [
    "%load_ext autoreload\n",
    "%autoreload 2"
   ]
  },
  {
   "cell_type": "markdown",
   "id": "1fe67acf-f856-4ede-8d6f-e706f2d69505",
   "metadata": {
    "tags": []
   },
   "source": [
    "# interval matrix `calculation` test\n",
    "\n",
    "- test with simple 3 by 3 case\n",
    "- current workflow will work as long as there is no shape as 2"
   ]
  },
  {
   "cell_type": "code",
   "execution_count": 5,
   "id": "4d151557-6451-4e1e-8bf9-2d57c4d7950d",
   "metadata": {},
   "outputs": [],
   "source": [
    "a = np.arange(9).reshape(3,3)"
   ]
  },
  {
   "cell_type": "code",
   "execution_count": 6,
   "id": "7ac135be-be97-406f-88f0-48bc604f7596",
   "metadata": {},
   "outputs": [
    {
     "data": {
      "text/plain": [
       "array([[0, 1, 2],\n",
       "       [3, 4, 5],\n",
       "       [6, 7, 8]])"
      ]
     },
     "execution_count": 6,
     "metadata": {},
     "output_type": "execute_result"
    }
   ],
   "source": [
    "a"
   ]
  },
  {
   "cell_type": "code",
   "execution_count": 7,
   "id": "79da63ed-bd11-4117-8a7d-0826d873a200",
   "metadata": {},
   "outputs": [
    {
     "data": {
      "text/plain": [
       "[0. 0.] [0.9 1.1] [1.8 2.2]\n",
       "[2.7 3.3] [3.6 4.4] [4.5 5.5]\n",
       "[5.4 6.6] [6.3 7.7] [7.2 8.8]"
      ]
     },
     "execution_count": 7,
     "metadata": {},
     "output_type": "execute_result"
    }
   ],
   "source": [
    "# vev @ vec\n",
    "\n",
    "v1 = create_interval(matrix=a)\n",
    "v1"
   ]
  },
  {
   "cell_type": "code",
   "execution_count": 11,
   "id": "aa4e3c4d-7163-4ad3-8f17-2ab8f5b8039e",
   "metadata": {},
   "outputs": [
    {
     "data": {
      "text/plain": [
       "[12.15 12.15] [14.58 14.58] [17.01 17.01]\n",
       "[34.02 34.02] [43.74 43.74] [53.46 53.46]\n",
       "[55.89 55.89] [72.9 72.9] [89.91 89.91]"
      ]
     },
     "execution_count": 11,
     "metadata": {},
     "output_type": "execute_result"
    }
   ],
   "source": [
    "aaa = intvl_matmul(v1, v1)\n",
    "aaa"
   ]
  },
  {
   "cell_type": "code",
   "execution_count": 12,
   "id": "640fcecf-6bff-461a-8cfe-67908bfd14b9",
   "metadata": {},
   "outputs": [
    {
     "data": {
      "text/plain": [
       "intervals.number.Interval"
      ]
     },
     "execution_count": 12,
     "metadata": {},
     "output_type": "execute_result"
    }
   ],
   "source": [
    "type(aaa)"
   ]
  },
  {
   "cell_type": "code",
   "execution_count": 13,
   "id": "81f88d0a-2caa-4b71-b64c-ae2e268879b7",
   "metadata": {},
   "outputs": [
    {
     "data": {
      "text/plain": [
       "3"
      ]
     },
     "execution_count": 13,
     "metadata": {},
     "output_type": "execute_result"
    }
   ],
   "source": [
    "len(aaa)"
   ]
  },
  {
   "cell_type": "code",
   "execution_count": null,
   "id": "67ede585-d4b3-4979-b111-8c191117a226",
   "metadata": {},
   "outputs": [],
   "source": [
    "# create a row vector \n",
    "\n",
    "row_vec = v1[0]\n",
    "row_vec"
   ]
  },
  {
   "cell_type": "code",
   "execution_count": null,
   "id": "157d4b5f-a59d-4cf1-ae3e-5555bd305a82",
   "metadata": {},
   "outputs": [],
   "source": [
    "row_vec.shape"
   ]
  },
  {
   "cell_type": "code",
   "execution_count": null,
   "id": "f75a5aaf-9013-4951-bb84-88a09d50b270",
   "metadata": {},
   "outputs": [],
   "source": [
    "sigmoid(row_vec)"
   ]
  },
  {
   "cell_type": "code",
   "execution_count": null,
   "id": "0631a1bf-dd74-4b0e-88df-a102c073c9eb",
   "metadata": {},
   "outputs": [],
   "source": [
    "sigmoid(v1)"
   ]
  },
  {
   "cell_type": "code",
   "execution_count": null,
   "id": "9e8d317c-7655-40eb-9f38-407d6310b66f",
   "metadata": {},
   "outputs": [],
   "source": [
    "# ''' add one more dimension succeeded '''\n",
    "\n",
    "# added_dim = row_vec[np.newaxis,:]\n",
    "# print(added_dim.shape)\n",
    "# added_dim"
   ]
  },
  {
   "cell_type": "code",
   "execution_count": null,
   "id": "9a58174a-49e1-48f6-af8c-2bc8efb98259",
   "metadata": {},
   "outputs": [],
   "source": [
    "''' lower dimension failed '''\n",
    "\n",
    "# np.ravel(added_dim)"
   ]
  },
  {
   "cell_type": "code",
   "execution_count": null,
   "id": "f8f0f97d-86b1-416c-866c-1c5c2cbeb445",
   "metadata": {},
   "outputs": [],
   "source": [
    "# matrix which is v1\n",
    "'''\n",
    "(3, ) @ (3,3)\n",
    "\n",
    "'''\n",
    "result = rowcol2(x=row_vec, W=v1)\n",
    "result"
   ]
  },
  {
   "cell_type": "code",
   "execution_count": null,
   "id": "5863a47b-c797-473b-8be0-1aa806af23b8",
   "metadata": {},
   "outputs": [],
   "source": [
    "result.shape"
   ]
  },
  {
   "cell_type": "code",
   "execution_count": null,
   "id": "e8c73ff7-1ade-47d1-b7be-7bcffc17569f",
   "metadata": {},
   "outputs": [],
   "source": [
    "result_ = intvl_matmul(x=row_vec, W=v1)\n",
    "type(result_)"
   ]
  },
  {
   "cell_type": "code",
   "execution_count": null,
   "id": "565c716b-09db-4493-b0fc-affcd460a8ee",
   "metadata": {},
   "outputs": [],
   "source": []
  },
  {
   "cell_type": "code",
   "execution_count": null,
   "id": "8d928b16-c5c8-4131-9e0d-deedd67484ba",
   "metadata": {},
   "outputs": [],
   "source": []
  },
  {
   "cell_type": "code",
   "execution_count": null,
   "id": "57a775aa-046f-4e17-8ad5-43927f640f83",
   "metadata": {},
   "outputs": [],
   "source": []
  },
  {
   "cell_type": "code",
   "execution_count": null,
   "id": "74042df9-b537-49af-aeb3-c9bde1d78e76",
   "metadata": {},
   "outputs": [],
   "source": [
    "ds = [[[1,2], [2,3], [4,5]],\n",
    "      [[-1,2],[-2,1],[3,5]],\n",
    "      [[0,2], [3,4], [6,8]]]"
   ]
  },
  {
   "cell_type": "code",
   "execution_count": null,
   "id": "c0caee81-854b-4635-a7a7-4cd6f5a1914b",
   "metadata": {},
   "outputs": [],
   "source": [
    "type(ds[0])"
   ]
  },
  {
   "cell_type": "code",
   "execution_count": null,
   "id": "44f235e6-797a-4b15-b83c-56fa45c66165",
   "metadata": {},
   "outputs": [],
   "source": [
    "treat_list"
   ]
  },
  {
   "cell_type": "code",
   "execution_count": null,
   "id": "269f069a-2675-4a80-b68a-94a1807efbdd",
   "metadata": {},
   "outputs": [],
   "source": []
  },
  {
   "cell_type": "markdown",
   "id": "001896f8-b856-455c-972d-20b29274ca2a",
   "metadata": {},
   "source": [
    "# vector computation"
   ]
  },
  {
   "cell_type": "markdown",
   "id": "5668b7ad-298b-486a-a034-c98515a5c4b9",
   "metadata": {},
   "source": [
    "### scaler interval @ vector interval"
   ]
  },
  {
   "cell_type": "code",
   "execution_count": null,
   "id": "c065ed91-870d-4bce-82fa-781036536cc1",
   "metadata": {},
   "outputs": [],
   "source": [
    "# scalar\n",
    "x = 3.2"
   ]
  },
  {
   "cell_type": "code",
   "execution_count": null,
   "id": "a017e76a-b6fb-49d0-b601-1f0aff776b18",
   "metadata": {},
   "outputs": [],
   "source": [
    "x_intvl = create_interval(matrix=x)\n",
    "x_intvl"
   ]
  },
  {
   "cell_type": "code",
   "execution_count": null,
   "id": "1cc11b29-96ac-4820-a0ad-165b5ed7fc30",
   "metadata": {},
   "outputs": [],
   "source": [
    "x_intvl.shape"
   ]
  },
  {
   "cell_type": "code",
   "execution_count": null,
   "id": "71850317-1c60-42df-b3ad-610e1109bb5e",
   "metadata": {},
   "outputs": [],
   "source": [
    "# sigmoid(x_intvl)"
   ]
  },
  {
   "cell_type": "code",
   "execution_count": null,
   "id": "57d11069-0ecf-4266-8798-6b5e4e71923b",
   "metadata": {},
   "outputs": [],
   "source": [
    "W1 = np.array([[1, 3, 5]])\n",
    "# W1 = np.array([1, 3, 5])\n",
    "W1.shape"
   ]
  },
  {
   "cell_type": "code",
   "execution_count": null,
   "id": "53ed7baf-a28c-470c-b094-31a9ec4cd5b6",
   "metadata": {},
   "outputs": [],
   "source": [
    "W1"
   ]
  },
  {
   "cell_type": "code",
   "execution_count": null,
   "id": "f3643fdb-387d-40dc-a1c6-6e8ee738a3ac",
   "metadata": {},
   "outputs": [],
   "source": [
    "W1_intvl = create_interval(matrix=W1)\n",
    "W1_intvl"
   ]
  },
  {
   "cell_type": "code",
   "execution_count": null,
   "id": "b8ddeda1-0d4c-4994-aef8-89c677a7f009",
   "metadata": {},
   "outputs": [],
   "source": [
    "W1_intvl.shape"
   ]
  },
  {
   "cell_type": "code",
   "execution_count": null,
   "id": "ea3b0076-545a-4014-a01c-a7b00bdfad00",
   "metadata": {},
   "outputs": [],
   "source": [
    "#\n",
    "''' \n",
    "(3, ) @ (1, 3)\n",
    "'''\n",
    "\n",
    "\n",
    "h1 = x_intvl * W1_intvl\n",
    "h1"
   ]
  },
  {
   "cell_type": "code",
   "execution_count": null,
   "id": "c5b06fc9-177b-4c6f-a03f-cf78b506e4a7",
   "metadata": {},
   "outputs": [],
   "source": [
    "h1.shape"
   ]
  },
  {
   "cell_type": "code",
   "execution_count": null,
   "id": "2c8056b0-c95e-4048-b6b9-b1fc54dd7e83",
   "metadata": {},
   "outputs": [],
   "source": [
    "3.2 * h1"
   ]
  },
  {
   "cell_type": "code",
   "execution_count": null,
   "id": "90868753-32eb-48d9-a2cc-eb5caad50a95",
   "metadata": {},
   "outputs": [],
   "source": [
    "x = np.array([3.2])"
   ]
  },
  {
   "cell_type": "code",
   "execution_count": null,
   "id": "36f6919d-68df-4350-963c-f94392e63225",
   "metadata": {},
   "outputs": [],
   "source": [
    "# scaler * interval vector\n",
    "print(x * h1)"
   ]
  },
  {
   "cell_type": "code",
   "execution_count": null,
   "id": "c049bfdf-eb62-4d37-958d-34e8642f639a",
   "metadata": {},
   "outputs": [],
   "source": [
    "x2 = I(3.2, 3.2)"
   ]
  },
  {
   "cell_type": "code",
   "execution_count": null,
   "id": "1d634e8b-828c-4faa-a5bd-aa943ae3bcf3",
   "metadata": {},
   "outputs": [],
   "source": [
    "x2"
   ]
  },
  {
   "cell_type": "code",
   "execution_count": null,
   "id": "90d81cb1-8b19-4ee4-9429-460805f63f1d",
   "metadata": {},
   "outputs": [],
   "source": [
    "x2 * h1"
   ]
  },
  {
   "cell_type": "code",
   "execution_count": null,
   "id": "808c83f0-c772-4f6d-886e-609885d58815",
   "metadata": {},
   "outputs": [],
   "source": []
  },
  {
   "cell_type": "code",
   "execution_count": null,
   "id": "dd8bb6b6-02e7-4d44-a689-d6a9ab13055f",
   "metadata": {},
   "outputs": [],
   "source": []
  },
  {
   "cell_type": "code",
   "execution_count": null,
   "id": "85853f1c-5c25-4946-b8a9-7c708134e58b",
   "metadata": {},
   "outputs": [],
   "source": []
  },
  {
   "cell_type": "code",
   "execution_count": null,
   "id": "e7dd9b64-e5b9-4663-a035-c6dfd37c3370",
   "metadata": {},
   "outputs": [],
   "source": []
  },
  {
   "cell_type": "code",
   "execution_count": null,
   "id": "62561636-783e-4d59-998d-ceb0c0da705b",
   "metadata": {},
   "outputs": [],
   "source": [
    "# tst= dot(h1, row_vec)"
   ]
  },
  {
   "cell_type": "code",
   "execution_count": null,
   "id": "55848810-9cfc-4328-b2d2-497f3c24de94",
   "metadata": {},
   "outputs": [],
   "source": [
    "# another test\n",
    "\n",
    "W2 = np.array([1, 3, 5])[:, np.newaxis]\n",
    "W2.shape"
   ]
  },
  {
   "cell_type": "code",
   "execution_count": null,
   "id": "343ea692-fea7-4650-a45c-42b108dd8aed",
   "metadata": {},
   "outputs": [],
   "source": [
    "W2_intvl = create_interval(matrix=W2)\n",
    "W2_intvl"
   ]
  },
  {
   "cell_type": "code",
   "execution_count": null,
   "id": "5f9e63cf-80b8-434d-bcb2-f1aac363a127",
   "metadata": {},
   "outputs": [],
   "source": [
    "W2_intvl.shape"
   ]
  },
  {
   "cell_type": "code",
   "execution_count": null,
   "id": "aa2e5d7c-77c2-428e-b957-979dd66e881c",
   "metadata": {},
   "outputs": [],
   "source": [
    "# to mimic the second layer propagation, from h1 to output \n",
    "\n",
    "'''\n",
    "# (1 by 3) * (3 by 1)\n",
    "y = hidden_tensor * W2_int\n",
    "'''"
   ]
  },
  {
   "cell_type": "code",
   "execution_count": null,
   "id": "136c2bd5-81ad-41dc-aa56-aaeef7270828",
   "metadata": {},
   "outputs": [],
   "source": [
    "y_hat = intvl_matmul(x=h1, W=W2_intvl)"
   ]
  },
  {
   "cell_type": "code",
   "execution_count": null,
   "id": "a2686064-1720-409a-a909-d2ee7cb8e3c5",
   "metadata": {},
   "outputs": [],
   "source": [
    "y_hat"
   ]
  },
  {
   "cell_type": "code",
   "execution_count": null,
   "id": "f0ee30f5-1951-4bb1-a1c6-59adcb9b4219",
   "metadata": {},
   "outputs": [],
   "source": [
    "y_hat2 = intvl_matmul(x=h1, W=v1)"
   ]
  },
  {
   "cell_type": "code",
   "execution_count": null,
   "id": "d4245b87-a0ae-43c3-85de-1369fdb926af",
   "metadata": {},
   "outputs": [],
   "source": [
    "y_hat2"
   ]
  },
  {
   "cell_type": "code",
   "execution_count": null,
   "id": "6a3f2cd6-97b4-4b08-b729-092c3449be62",
   "metadata": {},
   "outputs": [],
   "source": []
  }
 ],
 "metadata": {
  "kernelspec": {
   "display_name": "transformer",
   "language": "python",
   "name": "transformer"
  },
  "language_info": {
   "codemirror_mode": {
    "name": "ipython",
    "version": 3
   },
   "file_extension": ".py",
   "mimetype": "text/x-python",
   "name": "python",
   "nbconvert_exporter": "python",
   "pygments_lexer": "ipython3",
   "version": "3.11.4"
  }
 },
 "nbformat": 4,
 "nbformat_minor": 5
}
