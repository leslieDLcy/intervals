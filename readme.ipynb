{
 "cells": [
  {
   "cell_type": "code",
   "execution_count": 1,
   "metadata": {},
   "outputs": [],
   "source": [
    "from intervals.number import Interval as I\n",
    "from intervals.methods import (lo,hi,mid,rad,width,straddle_zero,intervalise)\n",
    "from tests.interval_generator import pick_endpoints_at_random_uniform"
   ]
  },
  {
   "cell_type": "code",
   "execution_count": 2,
   "metadata": {},
   "outputs": [
    {
     "name": "stdout",
     "output_type": "stream",
     "text": [
      "[1.0,2.0]\n"
     ]
    }
   ],
   "source": [
    "x=I(1,2)\n",
    "print(x)"
   ]
  },
  {
   "cell_type": "code",
   "execution_count": 3,
   "metadata": {},
   "outputs": [
    {
     "name": "stdout",
     "output_type": "stream",
     "text": [
      "[-3.0,-2.0]\n"
     ]
    }
   ],
   "source": [
    "y=I(-3,-2)\n",
    "print(y)"
   ]
  },
  {
   "cell_type": "code",
   "execution_count": 6,
   "metadata": {},
   "outputs": [
    {
     "name": "stdout",
     "output_type": "stream",
     "text": [
      "[-2.0,0.0]\n",
      "[3.0,5.0]\n",
      "[-6.0,-2.0]\n",
      "[-1.0,-0.3333333333333333]\n"
     ]
    }
   ],
   "source": [
    "print(x+y)\n",
    "print(x-y)\n",
    "print(x*y)\n",
    "print(x/y)"
   ]
  },
  {
   "cell_type": "code",
   "execution_count": 8,
   "metadata": {},
   "outputs": [
    {
     "name": "stdout",
     "output_type": "stream",
     "text": [
      "-2.0\n",
      "0.0\n"
     ]
    }
   ],
   "source": [
    "xe = [lo(x),hi(x)]\n",
    "ye = [lo(y),hi(y)]\n",
    "xye= [xx+yy for xx in xe for yy in ye ]\n",
    "print(min(xye))\n",
    "print(max(xye))"
   ]
  },
  {
   "cell_type": "code",
   "execution_count": 4,
   "metadata": {},
   "outputs": [
    {
     "data": {
      "text/plain": [
       "True"
      ]
     },
     "execution_count": 4,
     "metadata": {},
     "output_type": "execute_result"
    }
   ],
   "source": [
    "x.scalar"
   ]
  },
  {
   "cell_type": "code",
   "execution_count": 5,
   "metadata": {},
   "outputs": [
    {
     "data": {
      "text/plain": [
       "()"
      ]
     },
     "execution_count": 5,
     "metadata": {},
     "output_type": "execute_result"
    }
   ],
   "source": [
    "x.shape"
   ]
  },
  {
   "cell_type": "code",
   "execution_count": 12,
   "metadata": {},
   "outputs": [
    {
     "data": {
      "text/plain": [
       "0"
      ]
     },
     "execution_count": 12,
     "metadata": {},
     "output_type": "execute_result"
    }
   ],
   "source": [
    "len(x)"
   ]
  },
  {
   "cell_type": "code",
   "execution_count": 9,
   "metadata": {},
   "outputs": [],
   "source": [
    "x_ = I([1],[2])"
   ]
  },
  {
   "cell_type": "code",
   "execution_count": 10,
   "metadata": {},
   "outputs": [
    {
     "data": {
      "text/plain": [
       "True"
      ]
     },
     "execution_count": 10,
     "metadata": {},
     "output_type": "execute_result"
    }
   ],
   "source": [
    "x_.scalar # (0) scalar"
   ]
  },
  {
   "cell_type": "code",
   "execution_count": 11,
   "metadata": {},
   "outputs": [
    {
     "data": {
      "text/plain": [
       "[1.0,2.0]"
      ]
     },
     "execution_count": 11,
     "metadata": {},
     "output_type": "execute_result"
    }
   ],
   "source": [
    "x_[0] # (1) indexable"
   ]
  },
  {
   "cell_type": "code",
   "execution_count": 13,
   "metadata": {},
   "outputs": [
    {
     "name": "stdout",
     "output_type": "stream",
     "text": [
      "[1.0,2.0]\n"
     ]
    }
   ],
   "source": [
    "for xi in x: # (2) iterable\n",
    "    print(x)"
   ]
  },
  {
   "cell_type": "code",
   "execution_count": 14,
   "metadata": {},
   "outputs": [
    {
     "data": {
      "text/plain": [
       "1"
      ]
     },
     "execution_count": 14,
     "metadata": {},
     "output_type": "execute_result"
    }
   ],
   "source": [
    "len(x_) # (3) sized"
   ]
  },
  {
   "cell_type": "markdown",
   "metadata": {},
   "source": [
    "## Arithmetic between array-like intervals"
   ]
  },
  {
   "cell_type": "code",
   "execution_count": 2,
   "metadata": {},
   "outputs": [
    {
     "name": "stdout",
     "output_type": "stream",
     "text": [
      "[1.0,2.0]\n",
      "[2.0,3.0]\n",
      "[3.0,4.0]\n",
      "[4.0,5.0]\n",
      "---\n",
      "[-1.0,-1.0]\n",
      "[-2.0,-1.0]\n",
      "[-3.0,-1.0]\n",
      "[-4.0,-1.0]\n"
     ]
    }
   ],
   "source": [
    "x = I(lo=[1,2,3,4],hi=[2,3,4,5])\n",
    "print(x)\n",
    "print('---')\n",
    "y = I(lo=[-1,-2,-3,-4],hi=[-1,-1,-1,-1])\n",
    "print(y)"
   ]
  },
  {
   "cell_type": "code",
   "execution_count": 3,
   "metadata": {},
   "outputs": [
    {
     "name": "stdout",
     "output_type": "stream",
     "text": [
      "[0.0,1.0]\n",
      "[0.0,2.0]\n",
      "[0.0,3.0]\n",
      "[0.0,4.0]\n",
      "---\n",
      "[2.0,3.0]\n",
      "[3.0,5.0]\n",
      "[4.0,7.0]\n",
      "[5.0,9.0]\n",
      "---\n",
      "[-2.0,-1.0]\n",
      "[-6.0,-2.0]\n",
      "[-12.0,-3.0]\n",
      "[-20.0,-4.0]\n",
      "---\n",
      "[-2.0,-1.0]\n",
      "[-3.0,-1.0]\n",
      "[-4.0,-1.0]\n",
      "[-5.0,-1.0]\n"
     ]
    }
   ],
   "source": [
    "print(x+y)\n",
    "print('---')\n",
    "print(x-y)\n",
    "print('---')\n",
    "print(x*y)\n",
    "print('---')\n",
    "print(x/y)"
   ]
  },
  {
   "cell_type": "code",
   "execution_count": 4,
   "metadata": {},
   "outputs": [
    {
     "name": "stdout",
     "output_type": "stream",
     "text": [
      "[2.0,3.0]\n",
      "[3.0,5.0]\n",
      "[4.0,7.0]\n",
      "[5.0,9.0]\n"
     ]
    }
   ],
   "source": [
    "for xi,yi in zip(x,y): print(xi-yi)"
   ]
  },
  {
   "cell_type": "code",
   "execution_count": 3,
   "metadata": {},
   "outputs": [],
   "source": [
    "a = I(-1,1)"
   ]
  },
  {
   "cell_type": "code",
   "execution_count": 4,
   "metadata": {},
   "outputs": [
    {
     "name": "stdout",
     "output_type": "stream",
     "text": [
      "[0.0,3.0]\n",
      "[1.0,4.0]\n",
      "[2.0,5.0]\n",
      "[3.0,6.0]\n",
      "--\n",
      "[-3.0,0.0]\n",
      "[-4.0,-1.0]\n",
      "[-5.0,-2.0]\n",
      "[-6.0,-3.0]\n",
      "--\n",
      "[-2.0,2.0]\n",
      "[-3.0,3.0]\n",
      "[-4.0,4.0]\n",
      "[-5.0,5.0]\n",
      "--\n",
      "[-1.0,1.0]\n",
      "[-0.5,0.5]\n",
      "[-0.3333333333333333,0.3333333333333333]\n",
      "[-0.25,0.25]\n"
     ]
    }
   ],
   "source": [
    "print(a+x)\n",
    "print('--')\n",
    "print(a-x)\n",
    "print('--')\n",
    "print(a*x)\n",
    "print('--')\n",
    "print(a/x)"
   ]
  },
  {
   "cell_type": "code",
   "execution_count": 43,
   "metadata": {},
   "outputs": [],
   "source": [
    "ds = [[[1,2],[2,3],[4,5]],\n",
    "      [[-1,2],[-2,1],[3,5]],\n",
    "      [[0,2],[3,4],[6,8]]]"
   ]
  },
  {
   "cell_type": "code",
   "execution_count": 44,
   "metadata": {},
   "outputs": [
    {
     "name": "stdout",
     "output_type": "stream",
     "text": [
      "(3, 3)\n"
     ]
    }
   ],
   "source": [
    "x = intervalise(ds)\n",
    "print(x.shape)"
   ]
  },
  {
   "cell_type": "code",
   "execution_count": 45,
   "metadata": {},
   "outputs": [
    {
     "name": "stdout",
     "output_type": "stream",
     "text": [
      "[1. 2.] [-1.  2.] [0. 2.]\n",
      "[2. 3.] [-2.  1.] [3. 4.]\n",
      "[4. 5.] [3. 5.] [6. 8.]\n"
     ]
    }
   ],
   "source": [
    "print(x)"
   ]
  },
  {
   "cell_type": "code",
   "execution_count": 39,
   "metadata": {},
   "outputs": [
    {
     "name": "stdout",
     "output_type": "stream",
     "text": [
      "(4,)\n"
     ]
    }
   ],
   "source": [
    "ds = [[1,2],[2,3],[4,5],[5,6]]\n",
    "x = intervalise(ds)\n",
    "print(x.shape)"
   ]
  },
  {
   "cell_type": "code",
   "execution_count": 40,
   "metadata": {},
   "outputs": [
    {
     "name": "stdout",
     "output_type": "stream",
     "text": [
      "[1.0,2.0]\n",
      "[2.0,3.0]\n",
      "[4.0,5.0]\n",
      "[5.0,6.0]\n"
     ]
    }
   ],
   "source": [
    "print(x)"
   ]
  },
  {
   "cell_type": "code",
   "execution_count": 41,
   "metadata": {},
   "outputs": [
    {
     "name": "stdout",
     "output_type": "stream",
     "text": [
      "(4,)\n"
     ]
    }
   ],
   "source": [
    "ds = [[1,2,4,5],[2,3,5,6]]\n",
    "x = intervalise(ds)\n",
    "print(x.shape)"
   ]
  },
  {
   "cell_type": "code",
   "execution_count": 42,
   "metadata": {},
   "outputs": [
    {
     "name": "stdout",
     "output_type": "stream",
     "text": [
      "[1.0,2.0]\n",
      "[2.0,3.0]\n",
      "[4.0,5.0]\n",
      "[5.0,6.0]\n"
     ]
    }
   ],
   "source": [
    "print(x)"
   ]
  },
  {
   "cell_type": "markdown",
   "metadata": {},
   "source": [
    "## Speed test"
   ]
  },
  {
   "cell_type": "code",
   "execution_count": 1,
   "metadata": {},
   "outputs": [],
   "source": [
    "from intervals.number import Interval as I\n",
    "from intervals.methods import (lo,hi,mid,rad,width,intervalise)\n",
    "from tests.interval_generator import pick_endpoints_at_random_uniform\n",
    "import time"
   ]
  },
  {
   "cell_type": "code",
   "execution_count": 4,
   "metadata": {},
   "outputs": [
    {
     "name": "stdout",
     "output_type": "stream",
     "text": [
      "0.0032477378845214844\n"
     ]
    }
   ],
   "source": [
    "# Two large interval matrices\n",
    "shape=(5_000,5_000)\n",
    "t0 = time.time()\n",
    "x = intervalise(pick_endpoints_at_random_uniform(shape=shape,left_bound=0,right_bound=1))\n",
    "y = intervalise(pick_endpoints_at_random_uniform(shape=shape,left_bound=0,right_bound=1))\n",
    "t1 = time.time()\n",
    "print(t1-t0)"
   ]
  },
  {
   "cell_type": "code",
   "execution_count": 6,
   "metadata": {},
   "outputs": [
    {
     "name": "stdout",
     "output_type": "stream",
     "text": [
      "0.12917399406433105\n",
      "---\n",
      "0.038453102111816406\n",
      "---\n",
      "0.0017631053924560547\n"
     ]
    }
   ],
   "source": [
    "shape=(1000,1000)\n",
    "t0 = time.time()\n",
    "x = intervalise(pick_endpoints_at_random_uniform(shape=shape,left_bound=0,right_bound=1))\n",
    "y = intervalise(pick_endpoints_at_random_uniform(shape=shape,left_bound=0,right_bound=1))\n",
    "t1 = time.time()\n",
    "print(t1-t0)\n",
    "print('---')\n",
    "t0 = time.time()\n",
    "z=x*y\n",
    "t1 = time.time()\n",
    "print(t1-t0)\n",
    "print('---')\n",
    "t0 = time.time()\n",
    "z_lo=x.lo*y.lo\n",
    "t1 = time.time()\n",
    "print(t1-t0)"
   ]
  },
  {
   "cell_type": "code",
   "execution_count": 7,
   "metadata": {},
   "outputs": [
    {
     "name": "stdout",
     "output_type": "stream",
     "text": [
      "14.020300149917603\n",
      "---\n",
      "6.893776178359985\n",
      "---\n",
      "0.4369039535522461\n"
     ]
    }
   ],
   "source": [
    "shape=(10000,10000)\n",
    "t0 = time.time()\n",
    "x = intervalise(pick_endpoints_at_random_uniform(shape=shape,left_bound=0,right_bound=1))\n",
    "y = intervalise(pick_endpoints_at_random_uniform(shape=shape,left_bound=0,right_bound=1))\n",
    "t1 = time.time()\n",
    "print(t1-t0)\n",
    "print('---')\n",
    "t0 = time.time()\n",
    "z=x*y\n",
    "t1 = time.time()\n",
    "print(t1-t0)\n",
    "print('---')\n",
    "t0 = time.time()\n",
    "z_lo=x.lo*y.lo\n",
    "t1 = time.time()\n",
    "print(t1-t0)"
   ]
  },
  {
   "cell_type": "code",
   "execution_count": null,
   "metadata": {},
   "outputs": [],
   "source": [
    "s = [100,500,1_000,5_000,10_000,20_000]\n",
    "t_int=[0.0019979476928710938,0.007415771484375,0.038453102111816406,1.718714714050293,6.893776178359985,355.1633040904999]\n",
    "t_arr=[0.000762939453125,0.0003352165222167969,0.0017631053924560547,0.13709092140197754,0.4369039535522461,37.13457989692688]\n"
   ]
  },
  {
   "cell_type": "code",
   "execution_count": 18,
   "metadata": {},
   "outputs": [
    {
     "data": {
      "image/png": "[encoded data removed]",
      "text/plain": [
       "<Figure size 864x648 with 1 Axes>"
      ]
     },
     "metadata": {
      "needs_background": "light"
     },
     "output_type": "display_data"
    }
   ],
   "source": [
    "from matplotlib import pyplot\n",
    "fig,ax = pyplot.subplots(figsize=(12,9))\n",
    "ax.semilogy(s,t_int,label='Interval',marker='*')\n",
    "ax.semilogy(s,t_arr, label='ndarray',marker='*')\n",
    "ax.set_xlabel('Square matrix size [#elements]',fontsize=18)\n",
    "ax.set_ylabel('Running time [s]',fontsize=18)\n",
    "ax.set_title('Interval v. ndarrays for matrix multiplication.', fontsize=18)\n",
    "ax.legend(fontsize=18)\n",
    "ax.grid()"
   ]
  },
  {
   "cell_type": "code",
   "execution_count": null,
   "metadata": {},
   "outputs": [],
   "source": []
  }
 ],
 "metadata": {
  "interpreter": {
   "hash": "aee8b7b246df8f9039afb4144a1f6fd8d2ca17a180786b69acc140d282b71a49"
  },
  "kernelspec": {
   "display_name": "Python 3.9.6 64-bit",
   "language": "python",
   "name": "python3"
  },
  "language_info": {
   "codemirror_mode": {
    "name": "ipython",
    "version": 3
   },
   "file_extension": ".py",
   "mimetype": "text/x-python",
   "name": "python",
   "nbconvert_exporter": "python",
   "pygments_lexer": "ipython3",
   "version": "3.9.6"
  },
  "orig_nbformat": 4
 },
 "nbformat": 4,
 "nbformat_minor": 2
}
