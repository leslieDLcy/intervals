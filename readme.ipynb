{
 "cells": [
  {
   "cell_type": "code",
   "execution_count": 1,
   "metadata": {},
   "outputs": [],
   "source": [
    "from intervals.number import Interval as I\n",
    "from intervals.methods import (lo,hi,mid,rad,width,straddle_zero,intervalise)\n",
    "from tests.interval_generator import pick_endpoints_at_random_uniform"
   ]
  },
  {
   "cell_type": "code",
   "execution_count": 2,
   "metadata": {},
   "outputs": [
    {
     "name": "stdout",
     "output_type": "stream",
     "text": [
      "[1.0,2.0]\n"
     ]
    }
   ],
   "source": [
    "x=I(1,2)\n",
    "print(x)"
   ]
  },
  {
   "cell_type": "code",
   "execution_count": 3,
   "metadata": {},
   "outputs": [
    {
     "name": "stdout",
     "output_type": "stream",
     "text": [
      "[-3.0,-2.0]\n"
     ]
    }
   ],
   "source": [
    "y=I(-3,-2)\n",
    "print(y)"
   ]
  },
  {
   "cell_type": "code",
   "execution_count": 6,
   "metadata": {},
   "outputs": [
    {
     "name": "stdout",
     "output_type": "stream",
     "text": [
      "[-2.0,0.0]\n",
      "[3.0,5.0]\n",
      "[-6.0,-2.0]\n",
      "[-1.0,-0.3333333333333333]\n"
     ]
    }
   ],
   "source": [
    "print(x+y)\n",
    "print(x-y)\n",
    "print(x*y)\n",
    "print(x/y)"
   ]
  },
  {
   "cell_type": "code",
   "execution_count": 8,
   "metadata": {},
   "outputs": [
    {
     "name": "stdout",
     "output_type": "stream",
     "text": [
      "-2.0\n",
      "0.0\n"
     ]
    }
   ],
   "source": [
    "xe = [lo(x),hi(x)]\n",
    "ye = [lo(y),hi(y)]\n",
    "xye= [xx+yy for xx in xe for yy in ye ]\n",
    "print(min(xye))\n",
    "print(max(xye))"
   ]
  },
  {
   "cell_type": "code",
   "execution_count": 4,
   "metadata": {},
   "outputs": [
    {
     "data": {
      "text/plain": [
       "True"
      ]
     },
     "execution_count": 4,
     "metadata": {},
     "output_type": "execute_result"
    }
   ],
   "source": [
    "x.scalar"
   ]
  },
  {
   "cell_type": "code",
   "execution_count": 5,
   "metadata": {},
   "outputs": [
    {
     "data": {
      "text/plain": [
       "()"
      ]
     },
     "execution_count": 5,
     "metadata": {},
     "output_type": "execute_result"
    }
   ],
   "source": [
    "x.shape"
   ]
  },
  {
   "cell_type": "code",
   "execution_count": 12,
   "metadata": {},
   "outputs": [
    {
     "data": {
      "text/plain": [
       "0"
      ]
     },
     "execution_count": 12,
     "metadata": {},
     "output_type": "execute_result"
    }
   ],
   "source": [
    "len(x)"
   ]
  },
  {
   "cell_type": "code",
   "execution_count": 9,
   "metadata": {},
   "outputs": [],
   "source": [
    "x_ = I([1],[2])"
   ]
  },
  {
   "cell_type": "code",
   "execution_count": 10,
   "metadata": {},
   "outputs": [
    {
     "data": {
      "text/plain": [
       "True"
      ]
     },
     "execution_count": 10,
     "metadata": {},
     "output_type": "execute_result"
    }
   ],
   "source": [
    "x_.scalar # (0) scalar"
   ]
  },
  {
   "cell_type": "code",
   "execution_count": 11,
   "metadata": {},
   "outputs": [
    {
     "data": {
      "text/plain": [
       "[1.0,2.0]"
      ]
     },
     "execution_count": 11,
     "metadata": {},
     "output_type": "execute_result"
    }
   ],
   "source": [
    "x_[0] # (1) indexable"
   ]
  },
  {
   "cell_type": "code",
   "execution_count": 13,
   "metadata": {},
   "outputs": [
    {
     "name": "stdout",
     "output_type": "stream",
     "text": [
      "[1.0,2.0]\n"
     ]
    }
   ],
   "source": [
    "for xi in x: # (2) iterable\n",
    "    print(x)"
   ]
  },
  {
   "cell_type": "code",
   "execution_count": 14,
   "metadata": {},
   "outputs": [
    {
     "data": {
      "text/plain": [
       "1"
      ]
     },
     "execution_count": 14,
     "metadata": {},
     "output_type": "execute_result"
    }
   ],
   "source": [
    "len(x_) # (3) sized"
   ]
  },
  {
   "cell_type": "markdown",
   "metadata": {},
   "source": [
    "## Arithmetic between array-like intervals"
   ]
  },
  {
   "cell_type": "code",
   "execution_count": 2,
   "metadata": {},
   "outputs": [
    {
     "name": "stdout",
     "output_type": "stream",
     "text": [
      "[1.0,2.0]\n",
      "[2.0,3.0]\n",
      "[3.0,4.0]\n",
      "[4.0,5.0]\n",
      "---\n",
      "[-1.0,-1.0]\n",
      "[-2.0,-1.0]\n",
      "[-3.0,-1.0]\n",
      "[-4.0,-1.0]\n"
     ]
    }
   ],
   "source": [
    "x = I(lo=[1,2,3,4],hi=[2,3,4,5])\n",
    "print(x)\n",
    "print('---')\n",
    "y = I(lo=[-1,-2,-3,-4],hi=[-1,-1,-1,-1])\n",
    "print(y)"
   ]
  },
  {
   "cell_type": "code",
   "execution_count": 3,
   "metadata": {},
   "outputs": [
    {
     "name": "stdout",
     "output_type": "stream",
     "text": [
      "[0.0,1.0]\n",
      "[0.0,2.0]\n",
      "[0.0,3.0]\n",
      "[0.0,4.0]\n",
      "---\n",
      "[2.0,3.0]\n",
      "[3.0,5.0]\n",
      "[4.0,7.0]\n",
      "[5.0,9.0]\n",
      "---\n",
      "[-2.0,-1.0]\n",
      "[-6.0,-2.0]\n",
      "[-12.0,-3.0]\n",
      "[-20.0,-4.0]\n",
      "---\n",
      "[-2.0,-1.0]\n",
      "[-3.0,-1.0]\n",
      "[-4.0,-1.0]\n",
      "[-5.0,-1.0]\n"
     ]
    }
   ],
   "source": [
    "print(x+y)\n",
    "print('---')\n",
    "print(x-y)\n",
    "print('---')\n",
    "print(x*y)\n",
    "print('---')\n",
    "print(x/y)"
   ]
  },
  {
   "cell_type": "code",
   "execution_count": 4,
   "metadata": {},
   "outputs": [
    {
     "name": "stdout",
     "output_type": "stream",
     "text": [
      "[2.0,3.0]\n",
      "[3.0,5.0]\n",
      "[4.0,7.0]\n",
      "[5.0,9.0]\n"
     ]
    }
   ],
   "source": [
    "for xi,yi in zip(x,y): print(xi-yi)"
   ]
  },
  {
   "cell_type": "code",
   "execution_count": 3,
   "metadata": {},
   "outputs": [],
   "source": [
    "a = I(-1,1)"
   ]
  },
  {
   "cell_type": "code",
   "execution_count": 4,
   "metadata": {},
   "outputs": [
    {
     "name": "stdout",
     "output_type": "stream",
     "text": [
      "[0.0,3.0]\n",
      "[1.0,4.0]\n",
      "[2.0,5.0]\n",
      "[3.0,6.0]\n",
      "--\n",
      "[-3.0,0.0]\n",
      "[-4.0,-1.0]\n",
      "[-5.0,-2.0]\n",
      "[-6.0,-3.0]\n",
      "--\n",
      "[-2.0,2.0]\n",
      "[-3.0,3.0]\n",
      "[-4.0,4.0]\n",
      "[-5.0,5.0]\n",
      "--\n",
      "[-1.0,1.0]\n",
      "[-0.5,0.5]\n",
      "[-0.3333333333333333,0.3333333333333333]\n",
      "[-0.25,0.25]\n"
     ]
    }
   ],
   "source": [
    "print(a+x)\n",
    "print('--')\n",
    "print(a-x)\n",
    "print('--')\n",
    "print(a*x)\n",
    "print('--')\n",
    "print(a/x)"
   ]
  },
  {
   "cell_type": "code",
   "execution_count": 32,
   "metadata": {},
   "outputs": [],
   "source": [
    "ds = [[[1,2],[2,3],[4,5]],\n",
    "      [[-1,2],[-2,1],[3,5]],\n",
    "      [[0,2],[3,4],[6,8]]]"
   ]
  },
  {
   "cell_type": "code",
   "execution_count": 36,
   "metadata": {},
   "outputs": [
    {
     "name": "stdout",
     "output_type": "stream",
     "text": [
      "(3, 3)\n"
     ]
    }
   ],
   "source": [
    "x = intervalise(ds)\n",
    "print(x.shape)"
   ]
  },
  {
   "cell_type": "code",
   "execution_count": 37,
   "metadata": {},
   "outputs": [
    {
     "name": "stdout",
     "output_type": "stream",
     "text": [
      "[1. 2.] [1. 2.] [1. 2.]\n",
      "[2. 3.] [2. 3.] [2. 3.]\n",
      "[4. 5.] [4. 5.] [4. 5.]\n"
     ]
    }
   ],
   "source": [
    "print(x)"
   ]
  },
  {
   "cell_type": "code",
   "execution_count": null,
   "metadata": {},
   "outputs": [],
   "source": []
  }
 ],
 "metadata": {
  "interpreter": {
   "hash": "aee8b7b246df8f9039afb4144a1f6fd8d2ca17a180786b69acc140d282b71a49"
  },
  "kernelspec": {
   "display_name": "Python 3.9.6 64-bit",
   "language": "python",
   "name": "python3"
  },
  "language_info": {
   "codemirror_mode": {
    "name": "ipython",
    "version": 3
   },
   "file_extension": ".py",
   "mimetype": "text/x-python",
   "name": "python",
   "nbconvert_exporter": "python",
   "pygments_lexer": "ipython3",
   "version": "3.9.6"
  },
  "orig_nbformat": 4
 },
 "nbformat": 4,
 "nbformat_minor": 2
}
